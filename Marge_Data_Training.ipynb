{
  "cells": [
    {
      "cell_type": "markdown",
      "metadata": {
        "id": "view-in-github",
        "colab_type": "text"
      },
      "source": [
        "<a href=\"https://colab.research.google.com/github/Rajsoni03/Sentiment-Analysis-of-Amazon-Product-Reviews/blob/main/Marge_Data_Training.ipynb\" target=\"_parent\"><img src=\"https://colab.research.google.com/assets/colab-badge.svg\" alt=\"Open In Colab\"/></a>"
      ]
    },
    {
      "cell_type": "markdown",
      "metadata": {
        "id": "U3TXGpesUP8k"
      },
      "source": [
        "# Importing Librtaries"
      ]
    },
    {
      "cell_type": "code",
      "execution_count": 46,
      "metadata": {
        "id": "c6aVjEmzUMRm"
      },
      "outputs": [],
      "source": [
        "import tensorflow as tf\n",
        "import tensorflow_hub as hub\n",
        "\n",
        "from imblearn.under_sampling import RandomUnderSampler\n",
        "from sklearn.model_selection import train_test_split\n",
        "\n",
        "import matplotlib.pyplot as plt\n",
        "import numpy as np\n",
        "import pandas as pd\n",
        "import seaborn as sns\n",
        "\n",
        "import os\n",
        "import json\n",
        "import gzip\n",
        "from urllib.request import urlopen\n",
        "\n",
        "from tensorflow.keras.preprocessing.text import Tokenizer\n",
        "from tensorflow.keras.preprocessing.sequence import pad_sequences\n",
        "from tensorflow.keras.utils import plot_model"
      ]
    },
    {
      "cell_type": "markdown",
      "metadata": {
        "id": "pMf5m0ppUdYS"
      },
      "source": [
        "# Download and Import the Amazon Review Data (2018) Dataset\n",
        "\n",
        "\n",
        "Dataset Link - https://nijianmo.github.io/amazon/index.html"
      ]
    },
    {
      "cell_type": "code",
      "execution_count": 2,
      "metadata": {
        "colab": {
          "base_uri": "https://localhost:8080/"
        },
        "id": "EGwfScKzUKp6",
        "outputId": "a42e0351-4a6b-4761-87eb-63142ce830a0"
      },
      "outputs": [
        {
          "output_type": "stream",
          "name": "stdout",
          "text": [
            "--2022-02-24 11:39:13--  http://deepyeti.ucsd.edu/jianmo/amazon/categoryFilesSmall/Cell_Phones_and_Accessories_5.json.gz\n",
            "Resolving deepyeti.ucsd.edu (deepyeti.ucsd.edu)... 169.228.63.50\n",
            "Connecting to deepyeti.ucsd.edu (deepyeti.ucsd.edu)|169.228.63.50|:80... connected.\n",
            "HTTP request sent, awaiting response... 200 OK\n",
            "Length: 169071325 (161M) [application/octet-stream]\n",
            "Saving to: ‘Cell_Phones_and_Accessories_5.json.gz’\n",
            "\n",
            "Cell_Phones_and_Acc 100%[===================>] 161.24M  45.3MB/s    in 4.0s    \n",
            "\n",
            "2022-02-24 11:39:18 (40.5 MB/s) - ‘Cell_Phones_and_Accessories_5.json.gz’ saved [169071325/169071325]\n",
            "\n",
            "--2022-02-24 11:39:18--  http://deepyeti.ucsd.edu/jianmo/amazon/categoryFilesSmall/Arts_Crafts_and_Sewing_5.json.gz\n",
            "Resolving deepyeti.ucsd.edu (deepyeti.ucsd.edu)... 169.228.63.50\n",
            "Connecting to deepyeti.ucsd.edu (deepyeti.ucsd.edu)|169.228.63.50|:80... connected.\n",
            "HTTP request sent, awaiting response... 200 OK\n",
            "Length: 53965563 (51M) [application/octet-stream]\n",
            "Saving to: ‘Arts_Crafts_and_Sewing_5.json.gz’\n",
            "\n",
            "Arts_Crafts_and_Sew 100%[===================>]  51.46M  31.7MB/s    in 1.6s    \n",
            "\n",
            "2022-02-24 11:39:19 (31.7 MB/s) - ‘Arts_Crafts_and_Sewing_5.json.gz’ saved [53965563/53965563]\n",
            "\n",
            "--2022-02-24 11:39:20--  http://deepyeti.ucsd.edu/jianmo/amazon/categoryFilesSmall/Clothing_Shoes_and_Jewelry_5.json.gz\n",
            "Resolving deepyeti.ucsd.edu (deepyeti.ucsd.edu)... 169.228.63.50\n",
            "Connecting to deepyeti.ucsd.edu (deepyeti.ucsd.edu)|169.228.63.50|:80... connected.\n",
            "HTTP request sent, awaiting response... 200 OK\n",
            "Length: 1262892731 (1.2G) [application/octet-stream]\n",
            "Saving to: ‘Clothing_Shoes_and_Jewelry_5.json.gz’\n",
            "\n",
            "Clothing_Shoes_and_ 100%[===================>]   1.18G  44.9MB/s    in 28s     \n",
            "\n",
            "2022-02-24 11:39:48 (43.1 MB/s) - ‘Clothing_Shoes_and_Jewelry_5.json.gz’ saved [1262892731/1262892731]\n",
            "\n",
            "--2022-02-24 11:39:48--  http://deepyeti.ucsd.edu/jianmo/amazon/categoryFilesSmall/Books_5.json.gz\n",
            "Resolving deepyeti.ucsd.edu (deepyeti.ucsd.edu)... 169.228.63.50\n",
            "Connecting to deepyeti.ucsd.edu (deepyeti.ucsd.edu)|169.228.63.50|:80... connected.\n",
            "HTTP request sent, awaiting response... 200 OK\n",
            "Length: 7096438325 (6.6G) [application/octet-stream]\n",
            "Saving to: ‘Books_5.json.gz’\n",
            "\n",
            "Books_5.json.gz     100%[===================>]   6.61G  42.4MB/s    in 2m 40s  \n",
            "\n",
            "2022-02-24 11:42:28 (42.2 MB/s) - ‘Books_5.json.gz’ saved [7096438325/7096438325]\n",
            "\n",
            "--2022-02-24 11:42:29--  http://deepyeti.ucsd.edu/jianmo/amazon/categoryFilesSmall/Electronics_5.json.gz\n",
            "Resolving deepyeti.ucsd.edu (deepyeti.ucsd.edu)... 169.228.63.50\n",
            "Connecting to deepyeti.ucsd.edu (deepyeti.ucsd.edu)|169.228.63.50|:80... connected.\n",
            "HTTP request sent, awaiting response... 200 OK\n",
            "Length: 1251876861 (1.2G) [application/octet-stream]\n",
            "Saving to: ‘Electronics_5.json.gz’\n",
            "\n",
            "Electronics_5.json. 100%[===================>]   1.17G  43.2MB/s    in 27s     \n",
            "\n",
            "2022-02-24 11:42:56 (44.2 MB/s) - ‘Electronics_5.json.gz’ saved [1251876861/1251876861]\n",
            "\n",
            "--2022-02-24 11:42:56--  http://deepyeti.ucsd.edu/jianmo/amazon/categoryFilesSmall/Home_and_Kitchen_5.json.gz\n",
            "Resolving deepyeti.ucsd.edu (deepyeti.ucsd.edu)... 169.228.63.50\n",
            "Connecting to deepyeti.ucsd.edu (deepyeti.ucsd.edu)|169.228.63.50|:80... connected.\n",
            "HTTP request sent, awaiting response... 200 OK\n",
            "Length: 953876340 (910M) [application/octet-stream]\n",
            "Saving to: ‘Home_and_Kitchen_5.json.gz’\n",
            "\n",
            "Home_and_Kitchen_5. 100%[===================>] 909.69M  44.5MB/s    in 21s     \n",
            "\n",
            "2022-02-24 11:43:17 (43.3 MB/s) - ‘Home_and_Kitchen_5.json.gz’ saved [953876340/953876340]\n",
            "\n",
            "--2022-02-24 11:43:17--  http://deepyeti.ucsd.edu/jianmo/amazon/categoryFilesSmall/Kindle_Store_5.json.gz\n",
            "Resolving deepyeti.ucsd.edu (deepyeti.ucsd.edu)... 169.228.63.50\n",
            "Connecting to deepyeti.ucsd.edu (deepyeti.ucsd.edu)|169.228.63.50|:80... connected.\n",
            "HTTP request sent, awaiting response... 200 OK\n",
            "Length: 538673481 (514M) [application/octet-stream]\n",
            "Saving to: ‘Kindle_Store_5.json.gz’\n",
            "\n",
            "Kindle_Store_5.json 100%[===================>] 513.72M  44.3MB/s    in 12s     \n",
            "\n",
            "2022-02-24 11:43:29 (43.0 MB/s) - ‘Kindle_Store_5.json.gz’ saved [538673481/538673481]\n",
            "\n",
            "--2022-02-24 11:43:29--  http://deepyeti.ucsd.edu/jianmo/amazon/categoryFilesSmall/Sports_and_Outdoors_5.json.gz\n",
            "Resolving deepyeti.ucsd.edu (deepyeti.ucsd.edu)... 169.228.63.50\n",
            "Connecting to deepyeti.ucsd.edu (deepyeti.ucsd.edu)|169.228.63.50|:80... connected.\n",
            "HTTP request sent, awaiting response... 200 OK\n",
            "Length: 414308704 (395M) [application/octet-stream]\n",
            "Saving to: ‘Sports_and_Outdoors_5.json.gz’\n",
            "\n",
            "Sports_and_Outdoors 100%[===================>] 395.12M  45.2MB/s    in 9.2s    \n",
            "\n",
            "2022-02-24 11:43:39 (42.8 MB/s) - ‘Sports_and_Outdoors_5.json.gz’ saved [414308704/414308704]\n",
            "\n",
            "--2022-02-24 11:43:39--  http://deepyeti.ucsd.edu/jianmo/amazon/categoryFilesSmall/Toys_and_Games_5.json.gz\n",
            "Resolving deepyeti.ucsd.edu (deepyeti.ucsd.edu)... 169.228.63.50\n",
            "Connecting to deepyeti.ucsd.edu (deepyeti.ucsd.edu)|169.228.63.50|:80... connected.\n",
            "HTTP request sent, awaiting response... 200 OK\n",
            "Length: 242925873 (232M) [application/octet-stream]\n",
            "Saving to: ‘Toys_and_Games_5.json.gz’\n",
            "\n",
            "Toys_and_Games_5.js 100%[===================>] 231.67M  41.6MB/s    in 5.9s    \n",
            "\n",
            "2022-02-24 11:43:45 (39.2 MB/s) - ‘Toys_and_Games_5.json.gz’ saved [242925873/242925873]\n",
            "\n"
          ]
        }
      ],
      "source": [
        "# download review data zip file\n",
        "\n",
        "!wget http://deepyeti.ucsd.edu/jianmo/amazon/categoryFilesSmall/Cell_Phones_and_Accessories_5.json.gz\n",
        "!wget http://deepyeti.ucsd.edu/jianmo/amazon/categoryFilesSmall/Arts_Crafts_and_Sewing_5.json.gz\n",
        "!wget http://deepyeti.ucsd.edu/jianmo/amazon/categoryFilesSmall/Clothing_Shoes_and_Jewelry_5.json.gz\n",
        "!wget http://deepyeti.ucsd.edu/jianmo/amazon/categoryFilesSmall/Books_5.json.gz\n",
        "!wget http://deepyeti.ucsd.edu/jianmo/amazon/categoryFilesSmall/Electronics_5.json.gz\n",
        "!wget http://deepyeti.ucsd.edu/jianmo/amazon/categoryFilesSmall/Home_and_Kitchen_5.json.gz\n",
        "!wget http://deepyeti.ucsd.edu/jianmo/amazon/categoryFilesSmall/Kindle_Store_5.json.gz\n",
        "!wget http://deepyeti.ucsd.edu/jianmo/amazon/categoryFilesSmall/Sports_and_Outdoors_5.json.gz\n",
        "!wget http://deepyeti.ucsd.edu/jianmo/amazon/categoryFilesSmall/Toys_and_Games_5.json.gz"
      ]
    },
    {
      "cell_type": "code",
      "execution_count": 3,
      "metadata": {
        "id": "OnYFATHPO23x"
      },
      "outputs": [],
      "source": [
        "data_set_name = {\n",
        "    1 : 'Cell_Phones_and_Accessories',\n",
        "    2 : 'Arts_Crafts_and_Sewing',\n",
        "    3 : 'Clothing_Shoes_and_Jewelry',\n",
        "    4 : 'Books',\n",
        "    5 : 'Electronics',\n",
        "    6 : 'Kindle_Store',\n",
        "    7 : 'Sports_and_Outdoors',\n",
        "    8 : 'Toys_and_Games'\n",
        "}"
      ]
    },
    {
      "cell_type": "code",
      "execution_count": 4,
      "metadata": {
        "id": "XychZ1HvUhMS"
      },
      "outputs": [],
      "source": [
        "def extract_data(data_name):\n",
        "  # load the meta data\n",
        "  data = []\n",
        "  path = '/content/'+ data_name + '_5.json.gz'\n",
        "  count = 0\n",
        "  with gzip.open(path) as f:\n",
        "    for l in f:\n",
        "      if count < 100000:\n",
        "        data.append(json.loads(l.strip()))\n",
        "      count += 1\n",
        "      \n",
        "  # total length of list, this number equals total number of products\n",
        "  print(f'{len(data)}/{count}', ' : ', data_name)\n",
        "\n",
        "  return data"
      ]
    },
    {
      "cell_type": "code",
      "execution_count": 5,
      "metadata": {
        "colab": {
          "base_uri": "https://localhost:8080/"
        },
        "id": "ricbXdmSUs-F",
        "outputId": "693fe9c8-d23c-4485-ba41-8d2004cbe0cf"
      },
      "outputs": [
        {
          "output_type": "stream",
          "name": "stdout",
          "text": [
            "100000/1128437  :  Cell_Phones_and_Accessories\n",
            "100000/494485  :  Arts_Crafts_and_Sewing\n",
            "100000/11285464  :  Clothing_Shoes_and_Jewelry\n",
            "100000/27164983  :  Books\n",
            "100000/6739590  :  Electronics\n",
            "100000/2222983  :  Kindle_Store\n",
            "100000/2839940  :  Sports_and_Outdoors\n",
            "100000/1828971  :  Toys_and_Games\n"
          ]
        }
      ],
      "source": [
        "data = {}\n",
        "for data_name in data_set_name.values():\n",
        "  data[data_name] = extract_data(data_name)"
      ]
    },
    {
      "cell_type": "markdown",
      "metadata": {
        "id": "UDNfMAP82Bb8"
      },
      "source": [
        "# Data Analysis for Cell_Phones_and_Accessories"
      ]
    },
    {
      "cell_type": "code",
      "execution_count": 6,
      "metadata": {
        "colab": {
          "base_uri": "https://localhost:8080/",
          "height": 206
        },
        "id": "9-gxjZ6szQaq",
        "outputId": "45b84b95-2b7a-4f37-f50b-97c53893a676"
      },
      "outputs": [
        {
          "output_type": "execute_result",
          "data": {
            "text/html": [
              "\n",
              "  <div id=\"df-e98b769f-ee32-4d7f-a84d-e2ffe07444bd\">\n",
              "    <div class=\"colab-df-container\">\n",
              "      <div>\n",
              "<style scoped>\n",
              "    .dataframe tbody tr th:only-of-type {\n",
              "        vertical-align: middle;\n",
              "    }\n",
              "\n",
              "    .dataframe tbody tr th {\n",
              "        vertical-align: top;\n",
              "    }\n",
              "\n",
              "    .dataframe thead th {\n",
              "        text-align: right;\n",
              "    }\n",
              "</style>\n",
              "<table border=\"1\" class=\"dataframe\">\n",
              "  <thead>\n",
              "    <tr style=\"text-align: right;\">\n",
              "      <th></th>\n",
              "      <th>overall</th>\n",
              "      <th>verified</th>\n",
              "      <th>reviewTime</th>\n",
              "      <th>reviewerID</th>\n",
              "      <th>asin</th>\n",
              "      <th>style</th>\n",
              "      <th>reviewerName</th>\n",
              "      <th>reviewText</th>\n",
              "      <th>summary</th>\n",
              "      <th>unixReviewTime</th>\n",
              "      <th>vote</th>\n",
              "      <th>image</th>\n",
              "    </tr>\n",
              "  </thead>\n",
              "  <tbody>\n",
              "    <tr>\n",
              "      <th>0</th>\n",
              "      <td>5.0</td>\n",
              "      <td>True</td>\n",
              "      <td>08 4, 2014</td>\n",
              "      <td>A24E3SXTC62LJI</td>\n",
              "      <td>7508492919</td>\n",
              "      <td>{'Color:': ' Bling'}</td>\n",
              "      <td>Claudia Valdivia</td>\n",
              "      <td>Looks even better in person. Be careful to not...</td>\n",
              "      <td>Can't stop won't stop looking at it</td>\n",
              "      <td>1407110400</td>\n",
              "      <td>NaN</td>\n",
              "      <td>NaN</td>\n",
              "    </tr>\n",
              "    <tr>\n",
              "      <th>1</th>\n",
              "      <td>5.0</td>\n",
              "      <td>True</td>\n",
              "      <td>02 12, 2014</td>\n",
              "      <td>A269FLZCB4GIPV</td>\n",
              "      <td>7508492919</td>\n",
              "      <td>NaN</td>\n",
              "      <td>sarah ponce</td>\n",
              "      <td>When you don't want to spend a whole lot of ca...</td>\n",
              "      <td>1</td>\n",
              "      <td>1392163200</td>\n",
              "      <td>NaN</td>\n",
              "      <td>NaN</td>\n",
              "    </tr>\n",
              "    <tr>\n",
              "      <th>2</th>\n",
              "      <td>3.0</td>\n",
              "      <td>True</td>\n",
              "      <td>02 8, 2014</td>\n",
              "      <td>AB6CHQWHZW4TV</td>\n",
              "      <td>7508492919</td>\n",
              "      <td>NaN</td>\n",
              "      <td>Kai</td>\n",
              "      <td>so the case came on time, i love the design. I...</td>\n",
              "      <td>Its okay</td>\n",
              "      <td>1391817600</td>\n",
              "      <td>NaN</td>\n",
              "      <td>NaN</td>\n",
              "    </tr>\n",
              "    <tr>\n",
              "      <th>3</th>\n",
              "      <td>2.0</td>\n",
              "      <td>True</td>\n",
              "      <td>02 4, 2014</td>\n",
              "      <td>A1M117A53LEI8</td>\n",
              "      <td>7508492919</td>\n",
              "      <td>NaN</td>\n",
              "      <td>Sharon Williams</td>\n",
              "      <td>DON'T CARE FOR IT.  GAVE IT AS A GIFT AND THEY...</td>\n",
              "      <td>CASE</td>\n",
              "      <td>1391472000</td>\n",
              "      <td>NaN</td>\n",
              "      <td>NaN</td>\n",
              "    </tr>\n",
              "    <tr>\n",
              "      <th>4</th>\n",
              "      <td>4.0</td>\n",
              "      <td>True</td>\n",
              "      <td>02 3, 2014</td>\n",
              "      <td>A272DUT8M88ZS8</td>\n",
              "      <td>7508492919</td>\n",
              "      <td>NaN</td>\n",
              "      <td>Bella Rodriguez</td>\n",
              "      <td>I liked it because it was cute, but the studs ...</td>\n",
              "      <td>Cute!</td>\n",
              "      <td>1391385600</td>\n",
              "      <td>NaN</td>\n",
              "      <td>NaN</td>\n",
              "    </tr>\n",
              "  </tbody>\n",
              "</table>\n",
              "</div>\n",
              "      <button class=\"colab-df-convert\" onclick=\"convertToInteractive('df-e98b769f-ee32-4d7f-a84d-e2ffe07444bd')\"\n",
              "              title=\"Convert this dataframe to an interactive table.\"\n",
              "              style=\"display:none;\">\n",
              "        \n",
              "  <svg xmlns=\"http://www.w3.org/2000/svg\" height=\"24px\"viewBox=\"0 0 24 24\"\n",
              "       width=\"24px\">\n",
              "    <path d=\"M0 0h24v24H0V0z\" fill=\"none\"/>\n",
              "    <path d=\"M18.56 5.44l.94 2.06.94-2.06 2.06-.94-2.06-.94-.94-2.06-.94 2.06-2.06.94zm-11 1L8.5 8.5l.94-2.06 2.06-.94-2.06-.94L8.5 2.5l-.94 2.06-2.06.94zm10 10l.94 2.06.94-2.06 2.06-.94-2.06-.94-.94-2.06-.94 2.06-2.06.94z\"/><path d=\"M17.41 7.96l-1.37-1.37c-.4-.4-.92-.59-1.43-.59-.52 0-1.04.2-1.43.59L10.3 9.45l-7.72 7.72c-.78.78-.78 2.05 0 2.83L4 21.41c.39.39.9.59 1.41.59.51 0 1.02-.2 1.41-.59l7.78-7.78 2.81-2.81c.8-.78.8-2.07 0-2.86zM5.41 20L4 18.59l7.72-7.72 1.47 1.35L5.41 20z\"/>\n",
              "  </svg>\n",
              "      </button>\n",
              "      \n",
              "  <style>\n",
              "    .colab-df-container {\n",
              "      display:flex;\n",
              "      flex-wrap:wrap;\n",
              "      gap: 12px;\n",
              "    }\n",
              "\n",
              "    .colab-df-convert {\n",
              "      background-color: #E8F0FE;\n",
              "      border: none;\n",
              "      border-radius: 50%;\n",
              "      cursor: pointer;\n",
              "      display: none;\n",
              "      fill: #1967D2;\n",
              "      height: 32px;\n",
              "      padding: 0 0 0 0;\n",
              "      width: 32px;\n",
              "    }\n",
              "\n",
              "    .colab-df-convert:hover {\n",
              "      background-color: #E2EBFA;\n",
              "      box-shadow: 0px 1px 2px rgba(60, 64, 67, 0.3), 0px 1px 3px 1px rgba(60, 64, 67, 0.15);\n",
              "      fill: #174EA6;\n",
              "    }\n",
              "\n",
              "    [theme=dark] .colab-df-convert {\n",
              "      background-color: #3B4455;\n",
              "      fill: #D2E3FC;\n",
              "    }\n",
              "\n",
              "    [theme=dark] .colab-df-convert:hover {\n",
              "      background-color: #434B5C;\n",
              "      box-shadow: 0px 1px 3px 1px rgba(0, 0, 0, 0.15);\n",
              "      filter: drop-shadow(0px 1px 2px rgba(0, 0, 0, 0.3));\n",
              "      fill: #FFFFFF;\n",
              "    }\n",
              "  </style>\n",
              "\n",
              "      <script>\n",
              "        const buttonEl =\n",
              "          document.querySelector('#df-e98b769f-ee32-4d7f-a84d-e2ffe07444bd button.colab-df-convert');\n",
              "        buttonEl.style.display =\n",
              "          google.colab.kernel.accessAllowed ? 'block' : 'none';\n",
              "\n",
              "        async function convertToInteractive(key) {\n",
              "          const element = document.querySelector('#df-e98b769f-ee32-4d7f-a84d-e2ffe07444bd');\n",
              "          const dataTable =\n",
              "            await google.colab.kernel.invokeFunction('convertToInteractive',\n",
              "                                                     [key], {});\n",
              "          if (!dataTable) return;\n",
              "\n",
              "          const docLinkHtml = 'Like what you see? Visit the ' +\n",
              "            '<a target=\"_blank\" href=https://colab.research.google.com/notebooks/data_table.ipynb>data table notebook</a>'\n",
              "            + ' to learn more about interactive tables.';\n",
              "          element.innerHTML = '';\n",
              "          dataTable['output_type'] = 'display_data';\n",
              "          await google.colab.output.renderOutput(dataTable, element);\n",
              "          const docLink = document.createElement('div');\n",
              "          docLink.innerHTML = docLinkHtml;\n",
              "          element.appendChild(docLink);\n",
              "        }\n",
              "      </script>\n",
              "    </div>\n",
              "  </div>\n",
              "  "
            ],
            "text/plain": [
              "   overall  verified   reviewTime  ... unixReviewTime vote image\n",
              "0      5.0      True   08 4, 2014  ...     1407110400  NaN   NaN\n",
              "1      5.0      True  02 12, 2014  ...     1392163200  NaN   NaN\n",
              "2      3.0      True   02 8, 2014  ...     1391817600  NaN   NaN\n",
              "3      2.0      True   02 4, 2014  ...     1391472000  NaN   NaN\n",
              "4      4.0      True   02 3, 2014  ...     1391385600  NaN   NaN\n",
              "\n",
              "[5 rows x 12 columns]"
            ]
          },
          "metadata": {},
          "execution_count": 6
        }
      ],
      "source": [
        "# convert list into pandas dataframe\n",
        "df = pd.DataFrame.from_dict(data['Cell_Phones_and_Accessories'])\n",
        "\n",
        "# show 5 rows from head\n",
        "df.head()"
      ]
    },
    {
      "cell_type": "code",
      "execution_count": 7,
      "metadata": {
        "colab": {
          "base_uri": "https://localhost:8080/",
          "height": 206
        },
        "id": "3v6eLR_n2MEt",
        "outputId": "07eb5333-11c4-4b49-b869-521a539e78de"
      },
      "outputs": [
        {
          "output_type": "execute_result",
          "data": {
            "text/html": [
              "\n",
              "  <div id=\"df-b5507457-4ca7-4c29-84cc-fc5f662787d2\">\n",
              "    <div class=\"colab-df-container\">\n",
              "      <div>\n",
              "<style scoped>\n",
              "    .dataframe tbody tr th:only-of-type {\n",
              "        vertical-align: middle;\n",
              "    }\n",
              "\n",
              "    .dataframe tbody tr th {\n",
              "        vertical-align: top;\n",
              "    }\n",
              "\n",
              "    .dataframe thead th {\n",
              "        text-align: right;\n",
              "    }\n",
              "</style>\n",
              "<table border=\"1\" class=\"dataframe\">\n",
              "  <thead>\n",
              "    <tr style=\"text-align: right;\">\n",
              "      <th></th>\n",
              "      <th>overall</th>\n",
              "      <th>reviewText</th>\n",
              "    </tr>\n",
              "  </thead>\n",
              "  <tbody>\n",
              "    <tr>\n",
              "      <th>0</th>\n",
              "      <td>5.0</td>\n",
              "      <td>Looks even better in person. Be careful to not...</td>\n",
              "    </tr>\n",
              "    <tr>\n",
              "      <th>1</th>\n",
              "      <td>5.0</td>\n",
              "      <td>When you don't want to spend a whole lot of ca...</td>\n",
              "    </tr>\n",
              "    <tr>\n",
              "      <th>2</th>\n",
              "      <td>3.0</td>\n",
              "      <td>so the case came on time, i love the design. I...</td>\n",
              "    </tr>\n",
              "    <tr>\n",
              "      <th>3</th>\n",
              "      <td>2.0</td>\n",
              "      <td>DON'T CARE FOR IT.  GAVE IT AS A GIFT AND THEY...</td>\n",
              "    </tr>\n",
              "    <tr>\n",
              "      <th>4</th>\n",
              "      <td>4.0</td>\n",
              "      <td>I liked it because it was cute, but the studs ...</td>\n",
              "    </tr>\n",
              "  </tbody>\n",
              "</table>\n",
              "</div>\n",
              "      <button class=\"colab-df-convert\" onclick=\"convertToInteractive('df-b5507457-4ca7-4c29-84cc-fc5f662787d2')\"\n",
              "              title=\"Convert this dataframe to an interactive table.\"\n",
              "              style=\"display:none;\">\n",
              "        \n",
              "  <svg xmlns=\"http://www.w3.org/2000/svg\" height=\"24px\"viewBox=\"0 0 24 24\"\n",
              "       width=\"24px\">\n",
              "    <path d=\"M0 0h24v24H0V0z\" fill=\"none\"/>\n",
              "    <path d=\"M18.56 5.44l.94 2.06.94-2.06 2.06-.94-2.06-.94-.94-2.06-.94 2.06-2.06.94zm-11 1L8.5 8.5l.94-2.06 2.06-.94-2.06-.94L8.5 2.5l-.94 2.06-2.06.94zm10 10l.94 2.06.94-2.06 2.06-.94-2.06-.94-.94-2.06-.94 2.06-2.06.94z\"/><path d=\"M17.41 7.96l-1.37-1.37c-.4-.4-.92-.59-1.43-.59-.52 0-1.04.2-1.43.59L10.3 9.45l-7.72 7.72c-.78.78-.78 2.05 0 2.83L4 21.41c.39.39.9.59 1.41.59.51 0 1.02-.2 1.41-.59l7.78-7.78 2.81-2.81c.8-.78.8-2.07 0-2.86zM5.41 20L4 18.59l7.72-7.72 1.47 1.35L5.41 20z\"/>\n",
              "  </svg>\n",
              "      </button>\n",
              "      \n",
              "  <style>\n",
              "    .colab-df-container {\n",
              "      display:flex;\n",
              "      flex-wrap:wrap;\n",
              "      gap: 12px;\n",
              "    }\n",
              "\n",
              "    .colab-df-convert {\n",
              "      background-color: #E8F0FE;\n",
              "      border: none;\n",
              "      border-radius: 50%;\n",
              "      cursor: pointer;\n",
              "      display: none;\n",
              "      fill: #1967D2;\n",
              "      height: 32px;\n",
              "      padding: 0 0 0 0;\n",
              "      width: 32px;\n",
              "    }\n",
              "\n",
              "    .colab-df-convert:hover {\n",
              "      background-color: #E2EBFA;\n",
              "      box-shadow: 0px 1px 2px rgba(60, 64, 67, 0.3), 0px 1px 3px 1px rgba(60, 64, 67, 0.15);\n",
              "      fill: #174EA6;\n",
              "    }\n",
              "\n",
              "    [theme=dark] .colab-df-convert {\n",
              "      background-color: #3B4455;\n",
              "      fill: #D2E3FC;\n",
              "    }\n",
              "\n",
              "    [theme=dark] .colab-df-convert:hover {\n",
              "      background-color: #434B5C;\n",
              "      box-shadow: 0px 1px 3px 1px rgba(0, 0, 0, 0.15);\n",
              "      filter: drop-shadow(0px 1px 2px rgba(0, 0, 0, 0.3));\n",
              "      fill: #FFFFFF;\n",
              "    }\n",
              "  </style>\n",
              "\n",
              "      <script>\n",
              "        const buttonEl =\n",
              "          document.querySelector('#df-b5507457-4ca7-4c29-84cc-fc5f662787d2 button.colab-df-convert');\n",
              "        buttonEl.style.display =\n",
              "          google.colab.kernel.accessAllowed ? 'block' : 'none';\n",
              "\n",
              "        async function convertToInteractive(key) {\n",
              "          const element = document.querySelector('#df-b5507457-4ca7-4c29-84cc-fc5f662787d2');\n",
              "          const dataTable =\n",
              "            await google.colab.kernel.invokeFunction('convertToInteractive',\n",
              "                                                     [key], {});\n",
              "          if (!dataTable) return;\n",
              "\n",
              "          const docLinkHtml = 'Like what you see? Visit the ' +\n",
              "            '<a target=\"_blank\" href=https://colab.research.google.com/notebooks/data_table.ipynb>data table notebook</a>'\n",
              "            + ' to learn more about interactive tables.';\n",
              "          element.innerHTML = '';\n",
              "          dataTable['output_type'] = 'display_data';\n",
              "          await google.colab.output.renderOutput(dataTable, element);\n",
              "          const docLink = document.createElement('div');\n",
              "          docLink.innerHTML = docLinkHtml;\n",
              "          element.appendChild(docLink);\n",
              "        }\n",
              "      </script>\n",
              "    </div>\n",
              "  </div>\n",
              "  "
            ],
            "text/plain": [
              "   overall                                         reviewText\n",
              "0      5.0  Looks even better in person. Be careful to not...\n",
              "1      5.0  When you don't want to spend a whole lot of ca...\n",
              "2      3.0  so the case came on time, i love the design. I...\n",
              "3      2.0  DON'T CARE FOR IT.  GAVE IT AS A GIFT AND THEY...\n",
              "4      4.0  I liked it because it was cute, but the studs ..."
            ]
          },
          "metadata": {},
          "execution_count": 7
        }
      ],
      "source": [
        "df = df[['overall', 'reviewText']]\n",
        "df.head()"
      ]
    },
    {
      "cell_type": "code",
      "execution_count": 8,
      "metadata": {
        "colab": {
          "base_uri": "https://localhost:8080/"
        },
        "id": "HmgzYaiR4_-s",
        "outputId": "b9324457-287a-4880-ab4e-bf3a6a8f9762"
      },
      "outputs": [
        {
          "output_type": "execute_result",
          "data": {
            "text/plain": [
              "array([5., 3., 2., 4., 1.])"
            ]
          },
          "metadata": {},
          "execution_count": 8
        }
      ],
      "source": [
        "df['overall'].unique()"
      ]
    },
    {
      "cell_type": "code",
      "execution_count": 9,
      "metadata": {
        "colab": {
          "base_uri": "https://localhost:8080/"
        },
        "id": "nBAOeFvb4_7V",
        "outputId": "937d0ef1-8ec3-4148-c015-5ce40ea08570"
      },
      "outputs": [
        {
          "output_type": "stream",
          "name": "stdout",
          "text": [
            "5.0  -  Looks even better in person. Be careful to not drop your phone so often because the rhinestones will fall off (duh). More of a decorative case than it is protective, but I will say that it fits perfectly and securely on my phone. Overall, very pleased with this purchase.\n",
            "5.0  -  When you don't want to spend a whole lot of cash but want a great deal...this is the shop to buy from!\n",
            "3.0  -  so the case came on time, i love the design. I'm actually missing 2 studs but nothing too noticeable the studding is almost a bit sloppy around the bow, but once again not too noticeable. I haven't put in my phone yet so this is just what I've notice so far\n",
            "2.0  -  DON'T CARE FOR IT.  GAVE IT AS A GIFT AND THEY WERE OKAY WITH IT.  JUST NOT WHAT I EXPECTED.\n",
            "4.0  -  I liked it because it was cute, but the studs fall off easily and to protect a phone this would not be recommended. Buy if you just like it for looks.\n",
            "2.0  -  The product looked exactly like the picture and it was very nice. However only days later it fell apart. I'm very disappointed with the quality of the product.\n",
            "3.0  -  I FINALLY got my case today. It took forever to get here! It's cute and looks just like the pic. Like right after I wrote this review some of the rhinestones started falling off. The package does come with glue to glue them back on but in my opinion this case is only good for a couple of days (if that.) I wouldn't purchase another. Thanks you\n",
            "5.0  -  It is a very cute case. None of the jewels have fallen off and the bow is glued on very well. Came in the time frame that was given and I'm happy with this purchase. The only thing you might want to know is, I carry my phone in my jeans and it does fit very tightly because it is a big bow. You have to be careful but worth it.\n",
            "1.0  -  DO NOT BUY! this item is seriously cheap as heck. not worth buying it at all. I didn't even get to use it and it was already losing all of its gems. I wish I got my money back on this item!!\n",
            "4.0  -  I really love this case... you have to keep your phone face down all the time, but it's pretty good quality. Some stones come off from normal use, unless you keep it in your purse all day.\n"
          ]
        }
      ],
      "source": [
        "for i,d in df.iloc[0:10].iterrows():\n",
        "  print(d[0],' - ', d[1])"
      ]
    },
    {
      "cell_type": "code",
      "execution_count": 10,
      "metadata": {
        "colab": {
          "base_uri": "https://localhost:8080/"
        },
        "id": "lzUdoc-I4_u2",
        "outputId": "1d4cf72b-f216-4fff-9c35-e7f06cdb82a3"
      },
      "outputs": [
        {
          "output_type": "stream",
          "name": "stdout",
          "text": [
            "<class 'pandas.core.frame.DataFrame'>\n",
            "RangeIndex: 100000 entries, 0 to 99999\n",
            "Data columns (total 2 columns):\n",
            " #   Column      Non-Null Count   Dtype  \n",
            "---  ------      --------------   -----  \n",
            " 0   overall     100000 non-null  float64\n",
            " 1   reviewText  99965 non-null   object \n",
            "dtypes: float64(1), object(1)\n",
            "memory usage: 1.5+ MB\n"
          ]
        }
      ],
      "source": [
        "df.info()"
      ]
    },
    {
      "cell_type": "code",
      "execution_count": 11,
      "metadata": {
        "colab": {
          "base_uri": "https://localhost:8080/"
        },
        "id": "NKs8QJuQ5SIS",
        "outputId": "b82387f3-cd7c-4433-e4e7-7e2e5e204d7e"
      },
      "outputs": [
        {
          "output_type": "stream",
          "name": "stdout",
          "text": [
            "<class 'pandas.core.frame.DataFrame'>\n",
            "Int64Index: 99965 entries, 0 to 99999\n",
            "Data columns (total 2 columns):\n",
            " #   Column      Non-Null Count  Dtype \n",
            "---  ------      --------------  ----- \n",
            " 0   overall     99965 non-null  int32 \n",
            " 1   reviewText  99965 non-null  object\n",
            "dtypes: int32(1), object(1)\n",
            "memory usage: 1.9+ MB\n"
          ]
        }
      ],
      "source": [
        "df = df[df['reviewText'].notna()]\n",
        "\n",
        "# convert target type from float to int\n",
        "df = df.astype({'overall': 'int32'})\n",
        "df.info()"
      ]
    },
    {
      "cell_type": "code",
      "execution_count": 12,
      "metadata": {
        "colab": {
          "base_uri": "https://localhost:8080/",
          "height": 298
        },
        "id": "XGGTfREi5SFl",
        "outputId": "07cf3122-9eff-4b0c-c8e9-ee29af6623eb"
      },
      "outputs": [
        {
          "output_type": "execute_result",
          "data": {
            "text/plain": [
              "<matplotlib.axes._subplots.AxesSubplot at 0x7f721b472350>"
            ]
          },
          "metadata": {},
          "execution_count": 12
        },
        {
          "output_type": "display_data",
          "data": {
            "image/png": "[encoded data removed]",
            "text/plain": [
              "<Figure size 432x288 with 1 Axes>"
            ]
          },
          "metadata": {
            "needs_background": "light"
          }
        }
      ],
      "source": [
        "df['overall'].plot(kind='hist', title='Rating Distribution')"
      ]
    },
    {
      "cell_type": "markdown",
      "metadata": {
        "id": "MWI1U-_e_CWx"
      },
      "source": [
        "There are class imbalance problem with dataset"
      ]
    },
    {
      "cell_type": "code",
      "execution_count": 13,
      "metadata": {
        "colab": {
          "base_uri": "https://localhost:8080/"
        },
        "id": "3N9qQ71y5LCU",
        "outputId": "f883146d-cb1f-4de0-9e29-92bc92d11994"
      },
      "outputs": [
        {
          "output_type": "execute_result",
          "data": {
            "text/plain": [
              "(30380, 2)"
            ]
          },
          "metadata": {},
          "execution_count": 13
        }
      ],
      "source": [
        "# handle class imbalance problem\n",
        "rus  = RandomUnderSampler(random_state=42)\n",
        "df_final, _ = rus.fit_resample(df, df['overall'])\n",
        "df_final = pd.DataFrame(df_final, columns=['overall','reviewText'])\n",
        "df_final.shape"
      ]
    },
    {
      "cell_type": "code",
      "execution_count": 14,
      "metadata": {
        "colab": {
          "base_uri": "https://localhost:8080/"
        },
        "id": "sv7dfVVT5K_n",
        "outputId": "e8f1513a-29ff-4ec5-9dac-18ddb98823dd"
      },
      "outputs": [
        {
          "output_type": "stream",
          "name": "stdout",
          "text": [
            "<class 'pandas.core.frame.DataFrame'>\n",
            "RangeIndex: 30380 entries, 0 to 30379\n",
            "Data columns (total 2 columns):\n",
            " #   Column      Non-Null Count  Dtype \n",
            "---  ------      --------------  ----- \n",
            " 0   overall     30380 non-null  int32 \n",
            " 1   reviewText  30380 non-null  object\n",
            "dtypes: int32(1), object(1)\n",
            "memory usage: 356.1+ KB\n"
          ]
        }
      ],
      "source": [
        "df_final.info()"
      ]
    },
    {
      "cell_type": "code",
      "execution_count": 15,
      "metadata": {
        "colab": {
          "base_uri": "https://localhost:8080/",
          "height": 281
        },
        "id": "Ni5Jcs0U5K89",
        "outputId": "32011188-3ff1-42da-c639-0904278cddbe"
      },
      "outputs": [
        {
          "output_type": "display_data",
          "data": {
            "image/png": "[encoded data removed]",
            "text/plain": [
              "<Figure size 432x288 with 1 Axes>"
            ]
          },
          "metadata": {
            "needs_background": "light"
          }
        }
      ],
      "source": [
        "df_final['overall'].plot(kind='hist', title='Target Distribution after undersampling');"
      ]
    },
    {
      "cell_type": "markdown",
      "metadata": {
        "id": "tjhgXNNT4CeK"
      },
      "source": [
        "# Data Analysis and Preprocessing for All Dataset"
      ]
    },
    {
      "cell_type": "code",
      "execution_count": 16,
      "metadata": {
        "id": "kCDXmyO1y7XT"
      },
      "outputs": [],
      "source": [
        "def process_data(data_array, data_name):\n",
        "  # convert list into pandas dataframe\n",
        "  print('######[ Processing', data_name, 'Data ]######')\n",
        "\n",
        "  df = pd.DataFrame.from_dict(data_array)\n",
        "  df = df[['overall', 'reviewText']]\n",
        "\n",
        "  print(\"Unique Rating : \", df['overall'].unique())\n",
        "\n",
        "  df = df[df['reviewText'].notna()]\n",
        "\n",
        "  # convert target type from float to int\n",
        "  df = df.astype({'overall': 'int32'})\n",
        "\n",
        "  df['overall'].plot(kind='hist', title='Rating Distribution of {}'.format(data_name))\n",
        "  plt.show()\n",
        "\n",
        "  # handle class imbalance problem\n",
        "  rus  = RandomUnderSampler(random_state=42)\n",
        "  df, _ = rus.fit_resample(df, df['overall'])\n",
        "  df = pd.DataFrame(df, columns=['overall','reviewText'])\n",
        "  print('Final size of data :', len(df), '\\n')\n",
        "\n",
        "  # convert target type from float to int\n",
        "  df = df.astype({'overall': 'int32'})\n",
        "\n",
        "  df['overall'].plot(kind='hist', title='Target Distribution after undersampling of {}'.format(data_name));\n",
        "  plt.show()\n",
        "\n",
        "  return df"
      ]
    },
    {
      "cell_type": "code",
      "execution_count": 17,
      "metadata": {
        "colab": {
          "base_uri": "https://localhost:8080/",
          "height": 1000
        },
        "id": "Rjv7MugSDlX1",
        "outputId": "d2359758-86a0-4acf-9569-bac1685c8a97"
      },
      "outputs": [
        {
          "output_type": "stream",
          "name": "stdout",
          "text": [
            "######[ Processing Cell_Phones_and_Accessories Data ]######\n",
            "Unique Rating :  [5. 3. 2. 4. 1.]\n"
          ]
        },
        {
          "output_type": "display_data",
          "data": {
            "image/png": "[encoded data removed]",
            "text/plain": [
              "<Figure size 432x288 with 1 Axes>"
            ]
          },
          "metadata": {
            "needs_background": "light"
          }
        },
        {
          "output_type": "stream",
          "name": "stdout",
          "text": [
            "Final size of data : 30380 \n",
            "\n"
          ]
        },
        {
          "output_type": "display_data",
          "data": {
            "image/png": "[encoded data removed]",
            "text/plain": [
              "<Figure size 432x288 with 1 Axes>"
            ]
          },
          "metadata": {
            "needs_background": "light"
          }
        },
        {
          "output_type": "stream",
          "name": "stdout",
          "text": [
            "######[ Processing Arts_Crafts_and_Sewing Data ]######\n",
            "Unique Rating :  [4. 5. 2. 3. 1.]\n"
          ]
        },
        {
          "output_type": "display_data",
          "data": {
            "image/png": "[encoded data removed]",
            "text/plain": [
              "<Figure size 432x288 with 1 Axes>"
            ]
          },
          "metadata": {
            "needs_background": "light"
          }
        },
        {
          "output_type": "stream",
          "name": "stdout",
          "text": [
            "Final size of data : 12955 \n",
            "\n"
          ]
        },
        {
          "output_type": "display_data",
          "data": {
            "image/png": "[encoded data removed]",
            "text/plain": [
              "<Figure size 432x288 with 1 Axes>"
            ]
          },
          "metadata": {
            "needs_background": "light"
          }
        },
        {
          "output_type": "stream",
          "name": "stdout",
          "text": [
            "######[ Processing Clothing_Shoes_and_Jewelry Data ]######\n",
            "Unique Rating :  [5. 4. 2. 3. 1.]\n"
          ]
        },
        {
          "output_type": "display_data",
          "data": {
            "image/png": "[encoded data removed]",
            "text/plain": [
              "<Figure size 432x288 with 1 Axes>"
            ]
          },
          "metadata": {
            "needs_background": "light"
          }
        },
        {
          "output_type": "stream",
          "name": "stdout",
          "text": [
            "Final size of data : 22750 \n",
            "\n"
          ]
        },
        {
          "output_type": "display_data",
          "data": {
            "image/png": "[encoded data removed]",
            "text/plain": [
              "<Figure size 432x288 with 1 Axes>"
            ]
          },
          "metadata": {
            "needs_background": "light"
          }
        },
        {
          "output_type": "stream",
          "name": "stdout",
          "text": [
            "######[ Processing Books Data ]######\n",
            "Unique Rating :  [5. 3. 2. 4. 1.]\n"
          ]
        },
        {
          "output_type": "display_data",
          "data": {
            "image/png": "[encoded data removed]",
            "text/plain": [
              "<Figure size 432x288 with 1 Axes>"
            ]
          },
          "metadata": {
            "needs_background": "light"
          }
        },
        {
          "output_type": "stream",
          "name": "stdout",
          "text": [
            "Final size of data : 17420 \n",
            "\n"
          ]
        },
        {
          "output_type": "display_data",
          "data": {
            "image/png": "[encoded data removed]",
            "text/plain": [
              "<Figure size 432x288 with 1 Axes>"
            ]
          },
          "metadata": {
            "needs_background": "light"
          }
        },
        {
          "output_type": "stream",
          "name": "stdout",
          "text": [
            "######[ Processing Electronics Data ]######\n",
            "Unique Rating :  [5. 3. 4. 2. 1.]\n"
          ]
        },
        {
          "output_type": "display_data",
          "data": {
            "image/png": "[encoded data removed]",
            "text/plain": [
              "<Figure size 432x288 with 1 Axes>"
            ]
          },
          "metadata": {
            "needs_background": "light"
          }
        },
        {
          "output_type": "stream",
          "name": "stdout",
          "text": [
            "Final size of data : 17525 \n",
            "\n"
          ]
        },
        {
          "output_type": "display_data",
          "data": {
            "image/png": "[encoded data removed]",
            "text/plain": [
              "<Figure size 432x288 with 1 Axes>"
            ]
          },
          "metadata": {
            "needs_background": "light"
          }
        },
        {
          "output_type": "stream",
          "name": "stdout",
          "text": [
            "######[ Processing Kindle_Store Data ]######\n",
            "Unique Rating :  [4. 5. 3. 2. 1.]\n"
          ]
        },
        {
          "output_type": "display_data",
          "data": {
            "image/png": "[encoded data removed]",
            "text/plain": [
              "<Figure size 432x288 with 1 Axes>"
            ]
          },
          "metadata": {
            "needs_background": "light"
          }
        },
        {
          "output_type": "stream",
          "name": "stdout",
          "text": [
            "Final size of data : 18655 \n",
            "\n"
          ]
        },
        {
          "output_type": "display_data",
          "data": {
            "image/png": "[encoded data removed]",
            "text/plain": [
              "<Figure size 432x288 with 1 Axes>"
            ]
          },
          "metadata": {
            "needs_background": "light"
          }
        },
        {
          "output_type": "stream",
          "name": "stdout",
          "text": [
            "######[ Processing Sports_and_Outdoors Data ]######\n",
            "Unique Rating :  [5. 1. 4. 3. 2.]\n"
          ]
        },
        {
          "output_type": "display_data",
          "data": {
            "image/png": "[encoded data removed]",
            "text/plain": [
              "<Figure size 432x288 with 1 Axes>"
            ]
          },
          "metadata": {
            "needs_background": "light"
          }
        },
        {
          "output_type": "stream",
          "name": "stdout",
          "text": [
            "Final size of data : 16610 \n",
            "\n"
          ]
        },
        {
          "output_type": "display_data",
          "data": {
            "image/png": "[encoded data removed]",
            "text/plain": [
              "<Figure size 432x288 with 1 Axes>"
            ]
          },
          "metadata": {
            "needs_background": "light"
          }
        },
        {
          "output_type": "stream",
          "name": "stdout",
          "text": [
            "######[ Processing Toys_and_Games Data ]######\n",
            "Unique Rating :  [5. 4. 2. 1. 3.]\n"
          ]
        },
        {
          "output_type": "display_data",
          "data": {
            "image/png": "[encoded data removed]",
            "text/plain": [
              "<Figure size 432x288 with 1 Axes>"
            ]
          },
          "metadata": {
            "needs_background": "light"
          }
        },
        {
          "output_type": "stream",
          "name": "stdout",
          "text": [
            "Final size of data : 16630 \n",
            "\n"
          ]
        },
        {
          "output_type": "display_data",
          "data": {
            "image/png": "[encoded data removed]",
            "text/plain": [
              "<Figure size 432x288 with 1 Axes>"
            ]
          },
          "metadata": {
            "needs_background": "light"
          }
        }
      ],
      "source": [
        "processed_data = {}\n",
        "for data_name, data_array in data.items():\n",
        "  processed_data[data_name] = process_data(data_array, data_name)"
      ]
    },
    {
      "cell_type": "code",
      "execution_count": 18,
      "metadata": {
        "colab": {
          "base_uri": "https://localhost:8080/"
        },
        "id": "1av02nn7bK5H",
        "outputId": "9b858b04-eb60-44ea-c5f2-8be0db5aa6a0"
      },
      "outputs": [
        {
          "output_type": "execute_result",
          "data": {
            "text/plain": [
              "(152925, 2)"
            ]
          },
          "metadata": {},
          "execution_count": 18
        }
      ],
      "source": [
        "# Marge the data of all catagories to a single dataframe\n",
        "final_data = pd.concat(processed_data.values())\n",
        "final_data.shape"
      ]
    },
    {
      "cell_type": "code",
      "execution_count": 19,
      "metadata": {
        "id": "O9Fjof4ucWnP"
      },
      "outputs": [],
      "source": [
        "# converting rationg to binary labels (1 = Good, 0 = Bad)\n",
        "y = final_data.iloc[:, 0].values > 2\n",
        "y = np.array([int(i) for i in y])"
      ]
    },
    {
      "cell_type": "code",
      "execution_count": 20,
      "metadata": {
        "colab": {
          "base_uri": "https://localhost:8080/"
        },
        "id": "Dd4vBinPbHbP",
        "outputId": "d018cf4f-b197-4a21-92dc-3b114604af49"
      },
      "outputs": [
        {
          "output_type": "stream",
          "name": "stdout",
          "text": [
            "No. of samples Training data : 137632\n",
            "No. of samples Validation data : 15293\n"
          ]
        }
      ],
      "source": [
        "# split data into training and validation set in ratio of 9:1\n",
        "X_train, X_test, Y_train, Y_test = train_test_split(final_data['reviewText'], y, random_state=42, train_size=0.9, stratify=y)\n",
        "\n",
        "print('No. of samples Training data :', X_train.shape[0])\n",
        "print('No. of samples Validation data :', X_test.shape[0]) "
      ]
    },
    {
      "cell_type": "code",
      "execution_count": 21,
      "metadata": {
        "id": "4JtH6GFM2SDC"
      },
      "outputs": [],
      "source": [
        "# Get one hot encoding of Y_train\n",
        "# Y_train = pd.get_dummies(Y_train)\n",
        "# Y_test = pd.get_dummies(Y_test)\n",
        "\n",
        "# Y_train.head()"
      ]
    },
    {
      "cell_type": "markdown",
      "metadata": {
        "id": "plpWM-eudb2q"
      },
      "source": [
        "# Tensorflow Word Preprocessing"
      ]
    },
    {
      "cell_type": "code",
      "execution_count": 22,
      "metadata": {
        "id": "Uu3HXr6VvXe5"
      },
      "outputs": [],
      "source": [
        "vocab_size = 5000\n",
        "embedding_dim = 16\n",
        "max_length = 120\n",
        "trunc_type='post'\n",
        "oov_tok = \"<OOV>\""
      ]
    },
    {
      "cell_type": "code",
      "execution_count": 23,
      "metadata": {
        "id": "UOyi_835vLre"
      },
      "outputs": [],
      "source": [
        "tokenizer = Tokenizer(num_words = vocab_size, oov_token=oov_tok)\n",
        "tokenizer.fit_on_texts(X_train)\n",
        "word_index = tokenizer.word_index\n",
        "\n",
        "sequences = tokenizer.texts_to_sequences(X_train)\n",
        "padded = pad_sequences(sequences, maxlen=max_length, truncating=trunc_type)\n",
        "\n",
        "testing_sequences = tokenizer.texts_to_sequences(X_test)\n",
        "testing_padded = pad_sequences(testing_sequences, maxlen=max_length)"
      ]
    },
    {
      "cell_type": "code",
      "execution_count": 24,
      "metadata": {
        "colab": {
          "base_uri": "https://localhost:8080/"
        },
        "id": "HgPyccNwv4mR",
        "outputId": "aeabc0c8-2427-4fe8-9fc4-f4af56008e1b"
      },
      "outputs": [
        {
          "output_type": "stream",
          "name": "stdout",
          "text": [
            "? ? ? ? ? ? ? ? ? ? ? ? this is a rugged case but you will not be able to sync charge using a docking stand the screen cover is designed poorly and trapped air makes it difficult to see the <OOV> there is another popular case that is just as strong and will allow you to dock <OOV> the belt clip will not hold the iphone you should be aware that the phone could fall out without your knowledge if you are in a noisy area or in my case a <OOV> area with a light wind i had no idea the phone fell until i turned around and walked back the way i came\n",
            "1    Characters you don't care about, exposition in...\n",
            "1    This is a rugged case, but you will not be abl...\n",
            "1                        pile of garbage, don't buy it\n",
            "1    but definitly NOT...  tiny book..  make robot ...\n",
            "1    From buying this totally waste of technology. ...\n",
            "1    I am so frustrated with Anita Shreve.  I canno...\n",
            "1    The only thing nice I can say is it is made of...\n",
            "1                                           Toxic??!!!\n",
            "Name: reviewText, dtype: object\n"
          ]
        }
      ],
      "source": [
        "reverse_word_index = dict([(value, key) for (key, value) in word_index.items()])\n",
        "\n",
        "def decode_review(text):\n",
        "    return ' '.join([reverse_word_index.get(i, '?') for i in text])\n",
        "\n",
        "print(decode_review(padded[1]))\n",
        "print(X_train[1])"
      ]
    },
    {
      "cell_type": "code",
      "execution_count": 25,
      "metadata": {
        "colab": {
          "base_uri": "https://localhost:8080/"
        },
        "id": "tuGDKOi-jN4m",
        "outputId": "26363cc2-fe69-410b-c123-eaa8a3f2b0e1"
      },
      "outputs": [
        {
          "output_type": "execute_result",
          "data": {
            "text/plain": [
              "(152925, 120)"
            ]
          },
          "metadata": {},
          "execution_count": 25
        }
      ],
      "source": [
        "padded.shape"
      ]
    },
    {
      "cell_type": "markdown",
      "metadata": {
        "id": "0XWomf4Exzed"
      },
      "source": [
        "# TF Model Training"
      ]
    },
    {
      "cell_type": "code",
      "execution_count": 28,
      "metadata": {
        "colab": {
          "base_uri": "https://localhost:8080/"
        },
        "id": "zo6XxFCIv4jr",
        "outputId": "f2a9e207-ccb8-49c0-8d29-23c3b7ce5a5f"
      },
      "outputs": [
        {
          "output_type": "stream",
          "name": "stdout",
          "text": [
            "Model: \"model_1\"\n",
            "_________________________________________________________________\n",
            " Layer (type)                Output Shape              Param #   \n",
            "=================================================================\n",
            " input_2 (InputLayer)        [(None, 120)]             0         \n",
            "                                                                 \n",
            " embedding_1 (Embedding)     (None, 120, 16)           80000     \n",
            "                                                                 \n",
            " conv1d_1 (Conv1D)           (None, 116, 120)          9720      \n",
            "                                                                 \n",
            " global_average_pooling1d_1   (None, 120)              0         \n",
            " (GlobalAveragePooling1D)                                        \n",
            "                                                                 \n",
            " dense_2 (Dense)             (None, 32)                3872      \n",
            "                                                                 \n",
            " dense_3 (Dense)             (None, 1)                 33        \n",
            "                                                                 \n",
            "=================================================================\n",
            "Total params: 93,625\n",
            "Trainable params: 93,625\n",
            "Non-trainable params: 0\n",
            "_________________________________________________________________\n"
          ]
        }
      ],
      "source": [
        "# Model Definition with Conv1D\n",
        "\n",
        "inputs = tf.keras.Input(shape=(max_length))\n",
        "x = tf.keras.layers.Embedding(vocab_size, embedding_dim, input_length=max_length)(inputs)\n",
        "x = tf.keras.layers.Conv1D(120, 5, activation='relu')(x)\n",
        "x = tf.keras.layers.GlobalAveragePooling1D()(x)\n",
        "x = tf.keras.layers.Dense(32, activation='relu')(x)\n",
        "outputs =  tf.keras.layers.Dense(1, activation='sigmoid')(x)\n",
        "model = tf.keras.models.Model(inputs, outputs)\n",
        "\n",
        "opt = tf.keras.optimizers.Adam(learning_rate=0.0001)\n",
        "model.compile(loss='binary_crossentropy', optimizer=opt, metrics=['accuracy'])\n",
        "plot_model(model, to_file=\"model_plot.png\", show_shapes=True)\n",
        "model.summary()"
      ]
    },
    {
      "cell_type": "code",
      "execution_count": 30,
      "metadata": {
        "colab": {
          "base_uri": "https://localhost:8080/"
        },
        "id": "6LdqBquDv4hC",
        "outputId": "837d11ee-9130-46eb-e3c0-f4b5752e4e8b"
      },
      "outputs": [
        {
          "output_type": "stream",
          "name": "stdout",
          "text": [
            "Epoch 1/20\n",
            "4779/4779 [==============================] - 38s 5ms/step - loss: 0.5601 - accuracy: 0.7068 - val_loss: 0.4672 - val_accuracy: 0.7806\n",
            "Epoch 2/20\n",
            "4779/4779 [==============================] - 23s 5ms/step - loss: 0.4496 - accuracy: 0.7899 - val_loss: 0.4376 - val_accuracy: 0.7942\n",
            "Epoch 3/20\n",
            "4779/4779 [==============================] - 22s 5ms/step - loss: 0.4272 - accuracy: 0.8020 - val_loss: 0.4201 - val_accuracy: 0.8044\n",
            "Epoch 4/20\n",
            "4779/4779 [==============================] - 22s 5ms/step - loss: 0.4161 - accuracy: 0.8090 - val_loss: 0.4103 - val_accuracy: 0.8120\n",
            "Epoch 5/20\n",
            "4779/4779 [==============================] - 22s 5ms/step - loss: 0.4088 - accuracy: 0.8130 - val_loss: 0.4062 - val_accuracy: 0.8152\n",
            "Epoch 6/20\n",
            "4779/4779 [==============================] - 23s 5ms/step - loss: 0.4034 - accuracy: 0.8159 - val_loss: 0.4023 - val_accuracy: 0.8165\n",
            "Epoch 7/20\n",
            "4779/4779 [==============================] - 22s 5ms/step - loss: 0.3992 - accuracy: 0.8184 - val_loss: 0.3967 - val_accuracy: 0.8189\n",
            "Epoch 8/20\n",
            "4779/4779 [==============================] - 21s 4ms/step - loss: 0.3955 - accuracy: 0.8199 - val_loss: 0.3949 - val_accuracy: 0.8200\n",
            "Epoch 9/20\n",
            "4779/4779 [==============================] - 22s 5ms/step - loss: 0.3920 - accuracy: 0.8218 - val_loss: 0.3933 - val_accuracy: 0.8194\n",
            "Epoch 10/20\n",
            "4779/4779 [==============================] - 22s 5ms/step - loss: 0.3885 - accuracy: 0.8234 - val_loss: 0.3877 - val_accuracy: 0.8237\n",
            "Epoch 11/20\n",
            "4779/4779 [==============================] - 21s 4ms/step - loss: 0.3853 - accuracy: 0.8258 - val_loss: 0.3849 - val_accuracy: 0.8263\n",
            "Epoch 12/20\n",
            "4779/4779 [==============================] - 22s 5ms/step - loss: 0.3818 - accuracy: 0.8276 - val_loss: 0.3841 - val_accuracy: 0.8264\n",
            "Epoch 13/20\n",
            "4779/4779 [==============================] - 21s 4ms/step - loss: 0.3785 - accuracy: 0.8297 - val_loss: 0.3791 - val_accuracy: 0.8286\n",
            "Epoch 14/20\n",
            "4779/4779 [==============================] - 22s 4ms/step - loss: 0.3755 - accuracy: 0.8313 - val_loss: 0.3766 - val_accuracy: 0.8309\n",
            "Epoch 15/20\n",
            "4779/4779 [==============================] - 22s 5ms/step - loss: 0.3723 - accuracy: 0.8335 - val_loss: 0.3733 - val_accuracy: 0.8323\n",
            "Epoch 16/20\n",
            "4779/4779 [==============================] - 21s 4ms/step - loss: 0.3693 - accuracy: 0.8354 - val_loss: 0.3706 - val_accuracy: 0.8335\n",
            "Epoch 17/20\n",
            "4779/4779 [==============================] - 22s 5ms/step - loss: 0.3663 - accuracy: 0.8369 - val_loss: 0.3684 - val_accuracy: 0.8365\n",
            "Epoch 18/20\n",
            "4779/4779 [==============================] - 23s 5ms/step - loss: 0.3632 - accuracy: 0.8390 - val_loss: 0.3654 - val_accuracy: 0.8369\n",
            "Epoch 19/20\n",
            "4779/4779 [==============================] - 22s 4ms/step - loss: 0.3601 - accuracy: 0.8408 - val_loss: 0.3628 - val_accuracy: 0.8393\n",
            "Epoch 20/20\n",
            "4779/4779 [==============================] - 23s 5ms/step - loss: 0.3573 - accuracy: 0.8426 - val_loss: 0.3603 - val_accuracy: 0.8405\n"
          ]
        }
      ],
      "source": [
        "num_epochs = 20\n",
        "history = model.fit(padded, Y_train, epochs=num_epochs, validation_data=(testing_padded, Y_test))                                                                "
      ]
    },
    {
      "cell_type": "code",
      "execution_count": 31,
      "metadata": {
        "id": "LlbzWrpTDTRS"
      },
      "outputs": [],
      "source": [
        "model.save('/content/drive/MyDrive/Colab Notebooks/Amazon Review/model_new_1.h5')"
      ]
    },
    {
      "cell_type": "markdown",
      "metadata": {
        "id": "F39h3lydfirj"
      },
      "source": [
        "# Evaluate Model Performance "
      ]
    },
    {
      "cell_type": "code",
      "execution_count": 32,
      "metadata": {
        "colab": {
          "base_uri": "https://localhost:8080/",
          "height": 279
        },
        "id": "vYwwHDGXv4bM",
        "outputId": "f71d70ee-8bb7-4c3c-dfcd-2d8d0a4ede4f"
      },
      "outputs": [
        {
          "output_type": "display_data",
          "data": {
            "image/png": "[encoded data removed]",
            "text/plain": [
              "<Figure size 432x288 with 1 Axes>"
            ]
          },
          "metadata": {
            "needs_background": "light"
          }
        }
      ],
      "source": [
        "plt.plot(history.history['accuracy'])\n",
        "plt.plot(history.history['val_accuracy'])\n",
        "plt.plot(history.history['loss'])\n",
        "plt.plot(history.history['val_loss'])\n",
        "plt.xlabel(\"Epochs\")\n",
        "plt.ylabel('%')\n",
        "plt.legend(['acc', 'val_acc', 'loss', 'val_loss'])\n",
        "plt.show()\n"
      ]
    },
    {
      "cell_type": "code",
      "execution_count": 53,
      "metadata": {
        "id": "IT4ZSsJLv4YX",
        "colab": {
          "base_uri": "https://localhost:8080/"
        },
        "outputId": "3f60826b-d734-4d54-c234-9bfd3e24ae98"
      },
      "outputs": [
        {
          "output_type": "stream",
          "name": "stdout",
          "text": [
            "              precision    recall  f1-score   support\n",
            "\n",
            "           0       0.80      0.80      0.80      6117\n",
            "           1       0.87      0.87      0.87      9176\n",
            "\n",
            "    accuracy                           0.84     15293\n",
            "   macro avg       0.83      0.83      0.83     15293\n",
            "weighted avg       0.84      0.84      0.84     15293\n",
            "\n"
          ]
        }
      ],
      "source": [
        "from sklearn.metrics import confusion_matrix, classification_report\n",
        "\n",
        "y_pred = model.predict(testing_padded)\n",
        "y_pred = y_pred > .5\n",
        "\n",
        "\n",
        "print(classification_report(Y_test, y_pred))"
      ]
    },
    {
      "cell_type": "code",
      "source": [
        "\n",
        "cm = confusion_matrix(Y_test, y_pred)\n",
        "plt.figure(figsize=(10,7))\n",
        "sns.set(font_scale=1.4)\n",
        "sns.heatmap(cm,\n",
        "            annot=True,\n",
        "            annot_kws={\"size\": 16},\n",
        "            xticklabels=['Normal', 'Diabetes'],  \n",
        "            yticklabels=['Normal', 'Diabetes'],\n",
        "            fmt='g',\n",
        "            cmap='Blues')\n",
        "plt.title('Confusion Matrix')\n",
        "plt.ylabel('Actual Values')\n",
        "plt.xlabel('Predicted Values')\n",
        "plt.savefig(\"/content/CM.png\")\n",
        "plt.show()\n",
        "\n",
        "total = np.sum(cm)\n",
        "\n",
        "TP, FN, FP, TN = cm[0, 0], cm[0, 1], cm[1, 0], cm[1, 1]\n",
        "\n",
        "acc = (TP + TN) / total\n",
        "sensitivity = TP / (TP+FN)\n",
        "specificity = TN / (TN+FP)\n",
        "\n",
        "print(\"\\nacc: {:.4f}\".format(acc),\"\\tsensitivity: {:.4f}\".format(sensitivity),\"\\tspecificity: {:.4f}\\n\\n\".format(specificity))\n",
        "\n"
      ],
      "metadata": {
        "colab": {
          "base_uri": "https://localhost:8080/",
          "height": 547
        },
        "id": "jNZzunOWoeXO",
        "outputId": "b331b1ce-3c75-47f4-9da8-9b340a5be02b"
      },
      "execution_count": 50,
      "outputs": [
        {
          "output_type": "display_data",
          "data": {
            "image/png": "[encoded data removed]",
            "text/plain": [
              "<Figure size 720x504 with 2 Axes>"
            ]
          },
          "metadata": {}
        },
        {
          "output_type": "stream",
          "name": "stdout",
          "text": [
            "\n",
            "acc: 0.8405 \tsensitivity: 0.8006 \tspecificity: 0.8672\n",
            "\n",
            "\n"
          ]
        }
      ]
    },
    {
      "cell_type": "markdown",
      "metadata": {
        "id": "2V2OC0i6lZUX"
      },
      "source": [
        "# Test With Custom Input"
      ]
    },
    {
      "cell_type": "code",
      "execution_count": 42,
      "metadata": {
        "id": "lGEbtKqCJg2I"
      },
      "outputs": [],
      "source": [
        "your_review = \"the product is good, i am satisfied with it\""
      ]
    },
    {
      "cell_type": "code",
      "execution_count": 43,
      "metadata": {
        "colab": {
          "base_uri": "https://localhost:8080/"
        },
        "id": "7-czIH80Jgxn",
        "outputId": "e90977a7-42d0-4f78-99cf-9cc8161e377b"
      },
      "outputs": [
        {
          "output_type": "stream",
          "name": "stdout",
          "text": [
            "good\n"
          ]
        },
        {
          "output_type": "execute_result",
          "data": {
            "text/plain": [
              "0.9949615"
            ]
          },
          "metadata": {},
          "execution_count": 43
        }
      ],
      "source": [
        "your_padded_review = pad_sequences(tokenizer.texts_to_sequences([your_review]), maxlen=max_length, truncating=trunc_type)\n",
        "prediction = model.predict(your_padded_review)[0][0]\n",
        "\n",
        "if prediction > 0.5:\n",
        "  print('good')\n",
        "else:\n",
        "  print('not good')\n",
        "\n",
        "prediction"
      ]
    },
    {
      "cell_type": "code",
      "execution_count": 44,
      "metadata": {
        "id": "GHxSvLRYvgJq"
      },
      "outputs": [],
      "source": [
        "your_review = \"the product is vary bad, do not buy this\""
      ]
    },
    {
      "cell_type": "code",
      "execution_count": 45,
      "metadata": {
        "colab": {
          "base_uri": "https://localhost:8080/"
        },
        "id": "RICl_nIzwKgy",
        "outputId": "dd07da22-206f-4238-9a5b-8a5055b20d21"
      },
      "outputs": [
        {
          "output_type": "stream",
          "name": "stdout",
          "text": [
            "not good\n"
          ]
        },
        {
          "output_type": "execute_result",
          "data": {
            "text/plain": [
              "0.056198005"
            ]
          },
          "metadata": {},
          "execution_count": 45
        }
      ],
      "source": [
        "your_padded_review = pad_sequences(tokenizer.texts_to_sequences([your_review]), maxlen=max_length, truncating=trunc_type)\n",
        "prediction = model.predict(your_padded_review)[0][0]\n",
        "\n",
        "if prediction > 0.5:\n",
        "  print('good')\n",
        "else:\n",
        "  print('not good')\n",
        "\n",
        "prediction"
      ]
    },
    {
      "cell_type": "code",
      "execution_count": null,
      "metadata": {
        "id": "IyV2AJEqwMrH"
      },
      "outputs": [],
      "source": [
        ""
      ]
    }
  ],
  "metadata": {
    "accelerator": "GPU",
    "colab": {
      "collapsed_sections": [
        "U3TXGpesUP8k",
        "pMf5m0ppUdYS",
        "UDNfMAP82Bb8",
        "tjhgXNNT4CeK",
        "plpWM-eudb2q",
        "0XWomf4Exzed",
        "F39h3lydfirj",
        "2V2OC0i6lZUX"
      ],
      "name": "Marge Data Training",
      "provenance": [],
      "include_colab_link": true
    },
    "kernelspec": {
      "display_name": "Python 3",
      "name": "python3"
    },
    "language_info": {
      "name": "python"
    }
  },
  "nbformat": 4,
  "nbformat_minor": 0
}