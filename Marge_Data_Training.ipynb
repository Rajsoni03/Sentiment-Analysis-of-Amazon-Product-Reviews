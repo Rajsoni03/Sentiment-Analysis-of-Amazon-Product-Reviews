{
  "nbformat": 4,
  "nbformat_minor": 0,
  "metadata": {
    "colab": {
      "name": "Marge Data Training",
      "provenance": [],
      "collapsed_sections": [],
      "include_colab_link": true
    },
    "kernelspec": {
      "name": "python3",
      "display_name": "Python 3"
    },
    "language_info": {
      "name": "python"
    },
    "accelerator": "GPU"
  },
  "cells": [
    {
      "cell_type": "markdown",
      "metadata": {
        "id": "view-in-github",
        "colab_type": "text"
      },
      "source": [
        "<a href=\"https://colab.research.google.com/github/Rajsoni03/Sentiment-Analysis-of-Amazon-Product-Reviews/blob/main/Marge_Data_Training.ipynb\" target=\"_parent\"><img src=\"https://colab.research.google.com/assets/colab-badge.svg\" alt=\"Open In Colab\"/></a>"
      ]
    },
    {
      "cell_type": "markdown",
      "metadata": {
        "id": "U3TXGpesUP8k"
      },
      "source": [
        "# Importing Librtaries"
      ]
    },
    {
      "cell_type": "code",
      "metadata": {
        "id": "c6aVjEmzUMRm"
      },
      "source": [
        "import tensorflow as tf\n",
        "\n",
        "from imblearn.under_sampling import RandomUnderSampler\n",
        "from sklearn.model_selection import train_test_split\n",
        "\n",
        "import matplotlib.pyplot as plt\n",
        "import numpy as np\n",
        "import pandas as pd\n",
        "\n",
        "import os\n",
        "import json\n",
        "import gzip\n",
        "from urllib.request import urlopen\n",
        "\n",
        "from tensorflow.keras.preprocessing.text import Tokenizer\n",
        "from tensorflow.keras.preprocessing.sequence import pad_sequences"
      ],
      "execution_count": 2,
      "outputs": []
    },
    {
      "cell_type": "markdown",
      "metadata": {
        "id": "pMf5m0ppUdYS"
      },
      "source": [
        "# Download and Import the Amazon Review Data (2018) Dataset\n",
        "\n",
        "\n",
        "Dataset Link - https://nijianmo.github.io/amazon/index.html"
      ]
    },
    {
      "cell_type": "code",
      "metadata": {
        "colab": {
          "base_uri": "https://localhost:8080/",
          "height": 0
        },
        "id": "EGwfScKzUKp6",
        "outputId": "009dbe58-a3ff-40f3-cd9a-f4f4f483806a"
      },
      "source": [
        "# download data zip file\n",
        "# matadata\n",
        "# !wget http://deepyeti.ucsd.edu/jianmo/amazon/sample/meta_Computers.json.gz\n",
        "\n",
        "# review data\n",
        "!wget http://deepyeti.ucsd.edu/jianmo/amazon/categoryFilesSmall/Cell_Phones_and_Accessories_5.json.gz\n",
        "!wget http://deepyeti.ucsd.edu/jianmo/amazon/categoryFilesSmall/Arts_Crafts_and_Sewing_5.json.gz\n",
        "!wget http://deepyeti.ucsd.edu/jianmo/amazon/categoryFilesSmall/Clothing_Shoes_and_Jewelry_5.json.gz\n",
        "!wget http://deepyeti.ucsd.edu/jianmo/amazon/categoryFilesSmall/Books_5.json.gz\n",
        "!wget http://deepyeti.ucsd.edu/jianmo/amazon/categoryFilesSmall/Electronics_5.json.gz\n",
        "!wget http://deepyeti.ucsd.edu/jianmo/amazon/categoryFilesSmall/Home_and_Kitchen_5.json.gz\n",
        "!wget http://deepyeti.ucsd.edu/jianmo/amazon/categoryFilesSmall/Kindle_Store_5.json.gz\n",
        "!wget http://deepyeti.ucsd.edu/jianmo/amazon/categoryFilesSmall/Sports_and_Outdoors_5.json.gz\n",
        "!wget http://deepyeti.ucsd.edu/jianmo/amazon/categoryFilesSmall/Toys_and_Games_5.json.gz"
      ],
      "execution_count": 3,
      "outputs": [
        {
          "output_type": "stream",
          "name": "stdout",
          "text": [
            "--2021-11-23 06:33:42--  http://deepyeti.ucsd.edu/jianmo/amazon/categoryFilesSmall/Cell_Phones_and_Accessories_5.json.gz\n",
            "Resolving deepyeti.ucsd.edu (deepyeti.ucsd.edu)... 169.228.63.50\n",
            "Connecting to deepyeti.ucsd.edu (deepyeti.ucsd.edu)|169.228.63.50|:80... connected.\n",
            "HTTP request sent, awaiting response... 200 OK\n",
            "Length: 169071325 (161M) [application/octet-stream]\n",
            "Saving to: ‘Cell_Phones_and_Accessories_5.json.gz’\n",
            "\n",
            "Cell_Phones_and_Acc 100%[===================>] 161.24M  50.3MB/s    in 3.4s    \n",
            "\n",
            "2021-11-23 06:33:46 (48.1 MB/s) - ‘Cell_Phones_and_Accessories_5.json.gz’ saved [169071325/169071325]\n",
            "\n",
            "--2021-11-23 06:33:46--  http://deepyeti.ucsd.edu/jianmo/amazon/categoryFilesSmall/Arts_Crafts_and_Sewing_5.json.gz\n",
            "Resolving deepyeti.ucsd.edu (deepyeti.ucsd.edu)... 169.228.63.50\n",
            "Connecting to deepyeti.ucsd.edu (deepyeti.ucsd.edu)|169.228.63.50|:80... connected.\n",
            "HTTP request sent, awaiting response... 200 OK\n",
            "Length: 53965563 (51M) [application/octet-stream]\n",
            "Saving to: ‘Arts_Crafts_and_Sewing_5.json.gz’\n",
            "\n",
            "Arts_Crafts_and_Sew 100%[===================>]  51.46M  39.6MB/s    in 1.3s    \n",
            "\n",
            "2021-11-23 06:33:47 (39.6 MB/s) - ‘Arts_Crafts_and_Sewing_5.json.gz’ saved [53965563/53965563]\n",
            "\n",
            "--2021-11-23 06:33:47--  http://deepyeti.ucsd.edu/jianmo/amazon/categoryFilesSmall/Clothing_Shoes_and_Jewelry_5.json.gz\n",
            "Resolving deepyeti.ucsd.edu (deepyeti.ucsd.edu)... 169.228.63.50\n",
            "Connecting to deepyeti.ucsd.edu (deepyeti.ucsd.edu)|169.228.63.50|:80... connected.\n",
            "HTTP request sent, awaiting response... 200 OK\n",
            "Length: 1262892731 (1.2G) [application/octet-stream]\n",
            "Saving to: ‘Clothing_Shoes_and_Jewelry_5.json.gz’\n",
            "\n",
            "Clothing_Shoes_and_ 100%[===================>]   1.18G  53.5MB/s    in 23s     \n",
            "\n",
            "2021-11-23 06:34:11 (52.4 MB/s) - ‘Clothing_Shoes_and_Jewelry_5.json.gz’ saved [1262892731/1262892731]\n",
            "\n",
            "--2021-11-23 06:34:11--  http://deepyeti.ucsd.edu/jianmo/amazon/categoryFilesSmall/Books_5.json.gz\n",
            "Resolving deepyeti.ucsd.edu (deepyeti.ucsd.edu)... 169.228.63.50\n",
            "Connecting to deepyeti.ucsd.edu (deepyeti.ucsd.edu)|169.228.63.50|:80... connected.\n",
            "HTTP request sent, awaiting response... 200 OK\n",
            "Length: 7096438325 (6.6G) [application/octet-stream]\n",
            "Saving to: ‘Books_5.json.gz’\n",
            "\n",
            "Books_5.json.gz     100%[===================>]   6.61G  34.1MB/s    in 2m 17s  \n",
            "\n",
            "2021-11-23 06:36:28 (49.3 MB/s) - ‘Books_5.json.gz’ saved [7096438325/7096438325]\n",
            "\n",
            "--2021-11-23 06:36:31--  http://deepyeti.ucsd.edu/jianmo/amazon/categoryFilesSmall/Electronics_5.json.gz\n",
            "Resolving deepyeti.ucsd.edu (deepyeti.ucsd.edu)... 169.228.63.50\n",
            "Connecting to deepyeti.ucsd.edu (deepyeti.ucsd.edu)|169.228.63.50|:80... connected.\n",
            "HTTP request sent, awaiting response... 200 OK\n",
            "Length: 1251876861 (1.2G) [application/octet-stream]\n",
            "Saving to: ‘Electronics_5.json.gz’\n",
            "\n",
            "Electronics_5.json. 100%[===================>]   1.17G  28.2MB/s    in 24s     \n",
            "\n",
            "2021-11-23 06:36:56 (48.8 MB/s) - ‘Electronics_5.json.gz’ saved [1251876861/1251876861]\n",
            "\n",
            "--2021-11-23 06:36:56--  http://deepyeti.ucsd.edu/jianmo/amazon/categoryFilesSmall/Home_and_Kitchen_5.json.gz\n",
            "Resolving deepyeti.ucsd.edu (deepyeti.ucsd.edu)... 169.228.63.50\n",
            "Connecting to deepyeti.ucsd.edu (deepyeti.ucsd.edu)|169.228.63.50|:80... connected.\n",
            "HTTP request sent, awaiting response... 200 OK\n",
            "Length: 953876340 (910M) [application/octet-stream]\n",
            "Saving to: ‘Home_and_Kitchen_5.json.gz’\n",
            "\n",
            "Home_and_Kitchen_5. 100%[===================>] 909.69M  53.1MB/s    in 23s     \n",
            "\n",
            "2021-11-23 06:37:20 (39.2 MB/s) - ‘Home_and_Kitchen_5.json.gz’ saved [953876340/953876340]\n",
            "\n",
            "--2021-11-23 06:37:20--  http://deepyeti.ucsd.edu/jianmo/amazon/categoryFilesSmall/Kindle_Store_5.json.gz\n",
            "Resolving deepyeti.ucsd.edu (deepyeti.ucsd.edu)... 169.228.63.50\n",
            "Connecting to deepyeti.ucsd.edu (deepyeti.ucsd.edu)|169.228.63.50|:80... connected.\n",
            "HTTP request sent, awaiting response... 200 OK\n",
            "Length: 538673481 (514M) [application/octet-stream]\n",
            "Saving to: ‘Kindle_Store_5.json.gz’\n",
            "\n",
            "Kindle_Store_5.json 100%[===================>] 513.72M  55.4MB/s    in 9.7s    \n",
            "\n",
            "2021-11-23 06:37:29 (52.8 MB/s) - ‘Kindle_Store_5.json.gz’ saved [538673481/538673481]\n",
            "\n",
            "--2021-11-23 06:37:30--  http://deepyeti.ucsd.edu/jianmo/amazon/categoryFilesSmall/Sports_and_Outdoors_5.json.gz\n",
            "Resolving deepyeti.ucsd.edu (deepyeti.ucsd.edu)... 169.228.63.50\n",
            "Connecting to deepyeti.ucsd.edu (deepyeti.ucsd.edu)|169.228.63.50|:80... connected.\n",
            "HTTP request sent, awaiting response... 200 OK\n",
            "Length: 414308704 (395M) [application/octet-stream]\n",
            "Saving to: ‘Sports_and_Outdoors_5.json.gz’\n",
            "\n",
            "Sports_and_Outdoors 100%[===================>] 395.12M  50.4MB/s    in 8.2s    \n",
            "\n",
            "2021-11-23 06:37:38 (48.4 MB/s) - ‘Sports_and_Outdoors_5.json.gz’ saved [414308704/414308704]\n",
            "\n",
            "--2021-11-23 06:37:38--  http://deepyeti.ucsd.edu/jianmo/amazon/categoryFilesSmall/Toys_and_Games_5.json.gz\n",
            "Resolving deepyeti.ucsd.edu (deepyeti.ucsd.edu)... 169.228.63.50\n",
            "Connecting to deepyeti.ucsd.edu (deepyeti.ucsd.edu)|169.228.63.50|:80... connected.\n",
            "HTTP request sent, awaiting response... 200 OK\n",
            "Length: 242925873 (232M) [application/octet-stream]\n",
            "Saving to: ‘Toys_and_Games_5.json.gz’\n",
            "\n",
            "Toys_and_Games_5.js 100%[===================>] 231.67M  51.0MB/s    in 4.9s    \n",
            "\n",
            "2021-11-23 06:37:43 (47.4 MB/s) - ‘Toys_and_Games_5.json.gz’ saved [242925873/242925873]\n",
            "\n"
          ]
        }
      ]
    },
    {
      "cell_type": "code",
      "metadata": {
        "id": "OnYFATHPO23x"
      },
      "source": [
        "data_set_name = {\n",
        "    1 : 'Cell_Phones_and_Accessories',\n",
        "    2 : 'Arts_Crafts_and_Sewing',\n",
        "    3 : 'Clothing_Shoes_and_Jewelry',\n",
        "    4 : 'Books',\n",
        "    5 : 'Electronics',\n",
        "    6 : 'Kindle_Store',\n",
        "    7 : 'Sports_and_Outdoors',\n",
        "    8 : 'Toys_and_Games'\n",
        "}"
      ],
      "execution_count": 4,
      "outputs": []
    },
    {
      "cell_type": "code",
      "metadata": {
        "id": "XychZ1HvUhMS"
      },
      "source": [
        "def extract_data(data_name):\n",
        "  ### load the meta data\n",
        "  data = []\n",
        "  path = '/content/'+ data_name + '_5.json.gz'\n",
        "  count = 1\n",
        "  with gzip.open(path) as f:\n",
        "    for l in f:\n",
        "      data.append(json.loads(l.strip()))\n",
        "      if count >= 100000:\n",
        "        break\n",
        "      count += 1\n",
        "      \n",
        "  # total length of list, this number equals total number of products\n",
        "  print(len(data), ':', data_name)\n",
        "\n",
        "  # first row of the list\n",
        "  # print(data[0])\n",
        "\n",
        "  return data"
      ],
      "execution_count": 5,
      "outputs": []
    },
    {
      "cell_type": "code",
      "metadata": {
        "colab": {
          "base_uri": "https://localhost:8080/",
          "height": 0
        },
        "id": "ricbXdmSUs-F",
        "outputId": "e15fc395-c388-4279-bfbd-013233b99d18"
      },
      "source": [
        "data = {}\n",
        "for data_name in data_set_name.values():\n",
        "  data[data_name] = extract_data(data_name)"
      ],
      "execution_count": 6,
      "outputs": [
        {
          "output_type": "stream",
          "name": "stdout",
          "text": [
            "100000 : Cell_Phones_and_Accessories\n",
            "100000 : Arts_Crafts_and_Sewing\n",
            "100000 : Clothing_Shoes_and_Jewelry\n",
            "100000 : Books\n",
            "100000 : Electronics\n",
            "100000 : Kindle_Store\n",
            "100000 : Sports_and_Outdoors\n",
            "100000 : Toys_and_Games\n"
          ]
        }
      ]
    },
    {
      "cell_type": "markdown",
      "metadata": {
        "id": "tjhgXNNT4CeK"
      },
      "source": [
        "# Data Analysis and Preprocessing"
      ]
    },
    {
      "cell_type": "code",
      "metadata": {
        "id": "kCDXmyO1y7XT"
      },
      "source": [
        "def process_data(data_array, data_name):\n",
        "  # convert list into pandas dataframe\n",
        "  print('######[ Processing', data_name, 'Data ]######')\n",
        "\n",
        "  df = pd.DataFrame.from_dict(data_array)\n",
        "  df = df[['overall', 'reviewText']]\n",
        "\n",
        "  print(\"Unique Rating : \", df['overall'].unique())\n",
        "\n",
        "  df = df[df['reviewText'].notna()]\n",
        "\n",
        "  # convert target type from float to int\n",
        "  df = df.astype({'overall': 'int32'})\n",
        "\n",
        "  # df['overall'].plot(kind='hist', title='Rating Distribution of {}'.format(data_name))\n",
        "  # plt.show()\n",
        "\n",
        "  # handle class imbalance problem\n",
        "  rus  = RandomUnderSampler(random_state=42)\n",
        "  df, _ = rus.fit_resample(df, df['overall'])\n",
        "  df = pd.DataFrame(df, columns=['overall','reviewText'])\n",
        "  print('Final size of data :', len(df), '\\n')\n",
        "\n",
        "  # convert target type from float to int\n",
        "  df = df.astype({'overall': 'int32'})\n",
        "\n",
        "  # df['overall'].plot(kind='hist', title='Target Distribution after undersampling of {}'.format(data_name));\n",
        "  # plt.show()\n",
        "\n",
        "  return df"
      ],
      "execution_count": 7,
      "outputs": []
    },
    {
      "cell_type": "code",
      "metadata": {
        "colab": {
          "base_uri": "https://localhost:8080/",
          "height": 0
        },
        "id": "Rjv7MugSDlX1",
        "outputId": "0e84f908-a83c-456a-de01-175f600dcc15"
      },
      "source": [
        "processed_data = {}\n",
        "for data_name, data_array in data.items():\n",
        "  processed_data[data_name] = process_data(data_array, data_name)"
      ],
      "execution_count": 8,
      "outputs": [
        {
          "output_type": "stream",
          "name": "stdout",
          "text": [
            "######[ Processing Cell_Phones_and_Accessories Data ]######\n",
            "Unique Rating :  [5. 3. 2. 4. 1.]\n",
            "Final size of data : 30380 \n",
            "\n",
            "######[ Processing Arts_Crafts_and_Sewing Data ]######\n",
            "Unique Rating :  [4. 5. 2. 3. 1.]\n",
            "Final size of data : 12955 \n",
            "\n",
            "######[ Processing Clothing_Shoes_and_Jewelry Data ]######\n",
            "Unique Rating :  [5. 4. 2. 3. 1.]\n",
            "Final size of data : 22750 \n",
            "\n",
            "######[ Processing Books Data ]######\n",
            "Unique Rating :  [5. 3. 2. 4. 1.]\n",
            "Final size of data : 17420 \n",
            "\n",
            "######[ Processing Electronics Data ]######\n",
            "Unique Rating :  [5. 3. 4. 2. 1.]\n",
            "Final size of data : 17525 \n",
            "\n",
            "######[ Processing Kindle_Store Data ]######\n",
            "Unique Rating :  [4. 5. 3. 2. 1.]\n",
            "Final size of data : 18655 \n",
            "\n",
            "######[ Processing Sports_and_Outdoors Data ]######\n",
            "Unique Rating :  [5. 1. 4. 3. 2.]\n",
            "Final size of data : 16610 \n",
            "\n",
            "######[ Processing Toys_and_Games Data ]######\n",
            "Unique Rating :  [5. 4. 2. 1. 3.]\n",
            "Final size of data : 16630 \n",
            "\n"
          ]
        }
      ]
    },
    {
      "cell_type": "code",
      "metadata": {
        "colab": {
          "base_uri": "https://localhost:8080/",
          "height": 0
        },
        "id": "1av02nn7bK5H",
        "outputId": "57d3d60b-401d-403a-99e0-996ad8cc3384"
      },
      "source": [
        "# Marge the data of all catagories to a single dataframe\n",
        "final_data = pd.concat(processed_data.values())\n",
        "final_data.shape"
      ],
      "execution_count": 9,
      "outputs": [
        {
          "output_type": "execute_result",
          "data": {
            "text/plain": [
              "(152925, 2)"
            ]
          },
          "metadata": {},
          "execution_count": 9
        }
      ]
    },
    {
      "cell_type": "code",
      "metadata": {
        "id": "O9Fjof4ucWnP"
      },
      "source": [
        "# converting rationg to binary labels (1 = Good, 0 = Bad)\n",
        "y = final_data.iloc[:, 0].values > 2\n",
        "y = np.array([int(i) for i in y])"
      ],
      "execution_count": 15,
      "outputs": []
    },
    {
      "cell_type": "code",
      "metadata": {
        "colab": {
          "base_uri": "https://localhost:8080/",
          "height": 0
        },
        "id": "Dd4vBinPbHbP",
        "outputId": "a9e2b290-632e-4ee5-cfd7-09e35cfa3355"
      },
      "source": [
        "# split data into training and validation set in ratio of 9:1\n",
        "X_train, X_test, Y_train, Y_test = train_test_split(final_data['reviewText'], y, random_state=42, train_size=0.9, stratify=y)\n",
        "\n",
        "print('No. of samples Training data :', X_train.shape[0])\n",
        "print('No. of samples Validation data :', X_test.shape[0]) "
      ],
      "execution_count": 16,
      "outputs": [
        {
          "output_type": "stream",
          "name": "stdout",
          "text": [
            "No. of samples Training data : 137632\n",
            "No. of samples Validation data : 15293\n"
          ]
        }
      ]
    },
    {
      "cell_type": "code",
      "metadata": {
        "id": "4JtH6GFM2SDC"
      },
      "source": [
        "# Get one hot encoding of Y_train\n",
        "# Y_train = pd.get_dummies(Y_train)\n",
        "# Y_test = pd.get_dummies(Y_test)\n",
        "\n",
        "# Y_train.head()"
      ],
      "execution_count": null,
      "outputs": []
    },
    {
      "cell_type": "markdown",
      "metadata": {
        "id": "plpWM-eudb2q"
      },
      "source": [
        "# Tensorflow Word Preprocessing"
      ]
    },
    {
      "cell_type": "code",
      "metadata": {
        "id": "Uu3HXr6VvXe5"
      },
      "source": [
        "vocab_size = 10000\n",
        "embedding_dim = 16\n",
        "max_length = 120\n",
        "trunc_type='post'\n",
        "oov_tok = \"<OOV>\""
      ],
      "execution_count": 17,
      "outputs": []
    },
    {
      "cell_type": "code",
      "metadata": {
        "id": "UOyi_835vLre"
      },
      "source": [
        "tokenizer = Tokenizer(num_words = vocab_size, oov_token=oov_tok)\n",
        "tokenizer.fit_on_texts(X_train)\n",
        "word_index = tokenizer.word_index\n",
        "\n",
        "sequences = tokenizer.texts_to_sequences(X_train)\n",
        "padded = pad_sequences(sequences, maxlen=max_length, truncating=trunc_type)\n",
        "\n",
        "testing_sequences = tokenizer.texts_to_sequences(X_test)\n",
        "testing_padded = pad_sequences(testing_sequences, maxlen=max_length)"
      ],
      "execution_count": 18,
      "outputs": []
    },
    {
      "cell_type": "code",
      "metadata": {
        "colab": {
          "base_uri": "https://localhost:8080/",
          "height": 0
        },
        "id": "HgPyccNwv4mR",
        "outputId": "4272e54f-56d2-4f10-d845-c79e0f6e2fb9"
      },
      "source": [
        "reverse_word_index = dict([(value, key) for (key, value) in word_index.items()])\n",
        "\n",
        "def decode_review(text):\n",
        "    return ' '.join([reverse_word_index.get(i, '?') for i in text])\n",
        "\n",
        "print(decode_review(padded[1]))\n",
        "print(X_train[1])"
      ],
      "execution_count": 19,
      "outputs": [
        {
          "output_type": "stream",
          "name": "stdout",
          "text": [
            "? ? ? ? ? ? ? ? ? ? ? ? ? ? ? ? ? ? ? ? ? ? ? ? ? ? ? ? ? ? ? ? ? ? ? ? ? ? ? ? ? ? ? ? ? ? ? ? ? ? ? ? ? ? ? ? ? ? ? ? ? ? ? ? ? ? ? ? ? ? ? ? ? ? ? ? ? ? ? ? ? ? ? ? ? ? ? ? ? ? ? ? ? save your money and invest in an otterbox this is a poor imitation at a great product the plastic is cheap and the rubber doesn't fit properly\n",
            "1    Characters you don't care about, exposition in...\n",
            "1    This is a rugged case, but you will not be abl...\n",
            "1                        pile of garbage, don't buy it\n",
            "1    but definitly NOT...  tiny book..  make robot ...\n",
            "1    From buying this totally waste of technology. ...\n",
            "1    I am so frustrated with Anita Shreve.  I canno...\n",
            "1    The only thing nice I can say is it is made of...\n",
            "1                                           Toxic??!!!\n",
            "Name: reviewText, dtype: object\n"
          ]
        }
      ]
    },
    {
      "cell_type": "code",
      "metadata": {
        "colab": {
          "base_uri": "https://localhost:8080/",
          "height": 0
        },
        "id": "tuGDKOi-jN4m",
        "outputId": "194d63d9-2f47-4e90-9c5e-90f922b522f1"
      },
      "source": [
        "padded.shape"
      ],
      "execution_count": 20,
      "outputs": [
        {
          "output_type": "execute_result",
          "data": {
            "text/plain": [
              "(137632, 120)"
            ]
          },
          "metadata": {},
          "execution_count": 20
        }
      ]
    },
    {
      "cell_type": "markdown",
      "metadata": {
        "id": "0XWomf4Exzed"
      },
      "source": [
        "# TF Model Training"
      ]
    },
    {
      "cell_type": "code",
      "metadata": {
        "colab": {
          "base_uri": "https://localhost:8080/",
          "height": 0
        },
        "id": "zo6XxFCIv4jr",
        "outputId": "15b0d14c-2757-4c85-b059-183f1a8b4834"
      },
      "source": [
        "# Model Definition with Conv1D\n",
        "model = tf.keras.Sequential([\n",
        "    tf.keras.layers.Embedding(vocab_size, embedding_dim, input_length=max_length),\n",
        "    tf.keras.layers.Conv1D(120, 5, activation='relu'),\n",
        "    tf.keras.layers.GlobalAveragePooling1D(),\n",
        "    tf.keras.layers.Dense(32, activation='relu'),\n",
        "    tf.keras.layers.Dense(1, activation='sigmoid')\n",
        "])\n",
        "opt = tf.keras.optimizers.Adam(learning_rate=0.0001)\n",
        "model.compile(loss='binary_crossentropy', optimizer=opt, metrics=['accuracy'])\n",
        "model.summary()"
      ],
      "execution_count": 21,
      "outputs": [
        {
          "output_type": "stream",
          "name": "stdout",
          "text": [
            "Model: \"sequential\"\n",
            "_________________________________________________________________\n",
            " Layer (type)                Output Shape              Param #   \n",
            "=================================================================\n",
            " embedding (Embedding)       (None, 120, 16)           160000    \n",
            "                                                                 \n",
            " conv1d (Conv1D)             (None, 116, 120)          9720      \n",
            "                                                                 \n",
            " global_average_pooling1d (G  (None, 120)              0         \n",
            " lobalAveragePooling1D)                                          \n",
            "                                                                 \n",
            " dense (Dense)               (None, 32)                3872      \n",
            "                                                                 \n",
            " dense_1 (Dense)             (None, 1)                 33        \n",
            "                                                                 \n",
            "=================================================================\n",
            "Total params: 173,625\n",
            "Trainable params: 173,625\n",
            "Non-trainable params: 0\n",
            "_________________________________________________________________\n"
          ]
        }
      ]
    },
    {
      "cell_type": "code",
      "metadata": {
        "colab": {
          "base_uri": "https://localhost:8080/",
          "height": 0
        },
        "id": "6LdqBquDv4hC",
        "outputId": "e1c982ed-5b08-4874-e640-ea32af8f143a"
      },
      "source": [
        "num_epochs = 10\n",
        "history = model.fit(padded, Y_train, epochs=num_epochs, validation_data=(testing_padded, Y_test))"
      ],
      "execution_count": 22,
      "outputs": [
        {
          "output_type": "stream",
          "name": "stdout",
          "text": [
            "Epoch 1/10\n",
            "4301/4301 [==============================] - 39s 7ms/step - loss: 0.5674 - accuracy: 0.7013 - val_loss: 0.4786 - val_accuracy: 0.7722\n",
            "Epoch 2/10\n",
            "4301/4301 [==============================] - 28s 7ms/step - loss: 0.4481 - accuracy: 0.7909 - val_loss: 0.4474 - val_accuracy: 0.7885\n",
            "Epoch 3/10\n",
            "4301/4301 [==============================] - 28s 7ms/step - loss: 0.4218 - accuracy: 0.8042 - val_loss: 0.4344 - val_accuracy: 0.7976\n",
            "Epoch 4/10\n",
            "4301/4301 [==============================] - 30s 7ms/step - loss: 0.4076 - accuracy: 0.8128 - val_loss: 0.4290 - val_accuracy: 0.8003\n",
            "Epoch 5/10\n",
            "4301/4301 [==============================] - 30s 7ms/step - loss: 0.3979 - accuracy: 0.8191 - val_loss: 0.4281 - val_accuracy: 0.8007\n",
            "Epoch 6/10\n",
            "4301/4301 [==============================] - 30s 7ms/step - loss: 0.3907 - accuracy: 0.8238 - val_loss: 0.4243 - val_accuracy: 0.7995\n",
            "Epoch 7/10\n",
            "4301/4301 [==============================] - 30s 7ms/step - loss: 0.3847 - accuracy: 0.8266 - val_loss: 0.4237 - val_accuracy: 0.8026\n",
            "Epoch 8/10\n",
            "4301/4301 [==============================] - 28s 7ms/step - loss: 0.3797 - accuracy: 0.8300 - val_loss: 0.4209 - val_accuracy: 0.8025\n",
            "Epoch 9/10\n",
            "4301/4301 [==============================] - 28s 7ms/step - loss: 0.3750 - accuracy: 0.8332 - val_loss: 0.4215 - val_accuracy: 0.8008\n",
            "Epoch 10/10\n",
            "4301/4301 [==============================] - 29s 7ms/step - loss: 0.3710 - accuracy: 0.8351 - val_loss: 0.4181 - val_accuracy: 0.8047\n"
          ]
        }
      ]
    },
    {
      "cell_type": "code",
      "metadata": {
        "colab": {
          "base_uri": "https://localhost:8080/"
        },
        "id": "1NmBDjrdpbOq",
        "outputId": "8292b127-85d9-45d4-90f1-2314d564cd5c"
      },
      "source": [
        "num_epochs = 10\n",
        "history = model.fit(padded, Y_train, epochs=num_epochs, validation_data=(testing_padded, Y_test))"
      ],
      "execution_count": null,
      "outputs": [
        {
          "output_type": "stream",
          "name": "stdout",
          "text": [
            "Epoch 1/10\n",
            "4301/4301 [==============================] - 78s 18ms/step - loss: 0.3577 - accuracy: 0.8378 - val_loss: 0.3584 - val_accuracy: 0.8384\n",
            "Epoch 2/10\n",
            "4301/4301 [==============================] - 74s 17ms/step - loss: 0.3567 - accuracy: 0.8380 - val_loss: 0.3573 - val_accuracy: 0.8380\n",
            "Epoch 3/10\n",
            "4301/4301 [==============================] - 77s 18ms/step - loss: 0.3558 - accuracy: 0.8381 - val_loss: 0.3567 - val_accuracy: 0.8386\n",
            "Epoch 4/10\n",
            "4301/4301 [==============================] - 76s 18ms/step - loss: 0.3545 - accuracy: 0.8385 - val_loss: 0.3566 - val_accuracy: 0.8383\n",
            "Epoch 5/10\n",
            "4301/4301 [==============================] - 83s 19ms/step - loss: 0.3538 - accuracy: 0.8387 - val_loss: 0.3558 - val_accuracy: 0.8376\n",
            "Epoch 6/10\n",
            "4301/4301 [==============================] - 75s 18ms/step - loss: 0.3528 - accuracy: 0.8391 - val_loss: 0.3572 - val_accuracy: 0.8376\n",
            "Epoch 7/10\n",
            "4301/4301 [==============================] - 83s 19ms/step - loss: 0.3520 - accuracy: 0.8390 - val_loss: 0.3538 - val_accuracy: 0.8395\n",
            "Epoch 8/10\n",
            "4301/4301 [==============================] - 82s 19ms/step - loss: 0.3512 - accuracy: 0.8392 - val_loss: 0.3534 - val_accuracy: 0.8410\n",
            "Epoch 9/10\n",
            "4301/4301 [==============================] - 85s 20ms/step - loss: 0.3504 - accuracy: 0.8400 - val_loss: 0.3525 - val_accuracy: 0.8394\n",
            "Epoch 10/10\n",
            "4301/4301 [==============================] - 71s 17ms/step - loss: 0.3497 - accuracy: 0.8393 - val_loss: 0.3528 - val_accuracy: 0.8399\n"
          ]
        }
      ]
    },
    {
      "cell_type": "code",
      "metadata": {
        "id": "LlbzWrpTDTRS"
      },
      "source": [
        "model.save('/content/drive/MyDrive/Colab Notebooks/Amazon Review/model.h5')"
      ],
      "execution_count": null,
      "outputs": []
    },
    {
      "cell_type": "markdown",
      "metadata": {
        "id": "F39h3lydfirj"
      },
      "source": [
        "# Evaluate Model Performance "
      ]
    },
    {
      "cell_type": "code",
      "metadata": {
        "colab": {
          "base_uri": "https://localhost:8080/",
          "height": 279
        },
        "id": "vYwwHDGXv4bM",
        "outputId": "2af52274-02c7-47f7-cac2-8fbe6cf2957c"
      },
      "source": [
        "plt.plot(history.history['accuracy'])\n",
        "plt.plot(history.history['val_accuracy'])\n",
        "plt.plot(history.history['loss'])\n",
        "plt.plot(history.history['val_loss'])\n",
        "plt.xlabel(\"Epochs\")\n",
        "plt.ylabel('%')\n",
        "plt.legend(['acc', 'val_acc', 'loss', 'val_loss'])\n",
        "plt.show()\n"
      ],
      "execution_count": null,
      "outputs": [
        {
          "output_type": "display_data",
          "data": {
            "image/png": "[encoded data removed]",
            "text/plain": [
              "<Figure size 432x288 with 1 Axes>"
            ]
          },
          "metadata": {
            "needs_background": "light"
          }
        }
      ]
    },
    {
      "cell_type": "code",
      "metadata": {
        "id": "IT4ZSsJLv4YX"
      },
      "source": [
        "from sklearn.metrics import confusion_matrix, classification_report\n",
        "\n",
        "y_pred = model.predict(testing_padded).arg\n",
        "\n",
        "print(confusion_matrix(Y_test, y_pred))\n",
        "print(classification_report(Y_test, y_pred))"
      ],
      "execution_count": null,
      "outputs": []
    },
    {
      "cell_type": "code",
      "metadata": {
        "id": "2vFOqKcRLZrH"
      },
      "source": [
        ""
      ],
      "execution_count": null,
      "outputs": []
    },
    {
      "cell_type": "markdown",
      "metadata": {
        "id": "2V2OC0i6lZUX"
      },
      "source": [
        "# Test With Custom Input"
      ]
    },
    {
      "cell_type": "code",
      "metadata": {
        "id": "lGEbtKqCJg2I"
      },
      "source": [
        "your_review = \"the product is good, i am satisfied with it\""
      ],
      "execution_count": 48,
      "outputs": []
    },
    {
      "cell_type": "code",
      "metadata": {
        "colab": {
          "base_uri": "https://localhost:8080/"
        },
        "id": "7-czIH80Jgxn",
        "outputId": "c96acc7d-aef9-4b9a-a4f6-9da785e15a5c"
      },
      "source": [
        "your_padded_review = pad_sequences(tokenizer.texts_to_sequences([your_review]), maxlen=max_length, truncating=trunc_type)\n",
        "prediction = model.predict(your_padded_review)[0][0]\n",
        "\n",
        "if prediction > 0.5:\n",
        "  print('good')\n",
        "else:\n",
        "  print('not good')\n",
        "\n",
        "prediction"
      ],
      "execution_count": 49,
      "outputs": [
        {
          "output_type": "stream",
          "name": "stdout",
          "text": [
            "good\n"
          ]
        },
        {
          "output_type": "execute_result",
          "data": {
            "text/plain": [
              "0.9821914"
            ]
          },
          "metadata": {},
          "execution_count": 49
        }
      ]
    },
    {
      "cell_type": "code",
      "metadata": {
        "id": "GHxSvLRYvgJq"
      },
      "source": [
        "your_review = \"the product is vary bad, do not buy this\""
      ],
      "execution_count": 50,
      "outputs": []
    },
    {
      "cell_type": "code",
      "metadata": {
        "colab": {
          "base_uri": "https://localhost:8080/"
        },
        "id": "RICl_nIzwKgy",
        "outputId": "a7aa3dd8-a739-4848-83df-e2fdbee8c97c"
      },
      "source": [
        "your_padded_review = pad_sequences(tokenizer.texts_to_sequences([your_review]), maxlen=max_length, truncating=trunc_type)\n",
        "prediction = model.predict(your_padded_review)[0][0]\n",
        "\n",
        "if prediction > 0.5:\n",
        "  print('good')\n",
        "else:\n",
        "  print('not good')\n",
        "\n",
        "prediction"
      ],
      "execution_count": 51,
      "outputs": [
        {
          "output_type": "stream",
          "name": "stdout",
          "text": [
            "not good\n"
          ]
        },
        {
          "output_type": "execute_result",
          "data": {
            "text/plain": [
              "0.11449351"
            ]
          },
          "metadata": {},
          "execution_count": 51
        }
      ]
    },
    {
      "cell_type": "code",
      "metadata": {
        "id": "IyV2AJEqwMrH"
      },
      "source": [
        ""
      ],
      "execution_count": null,
      "outputs": []
    }
  ]
}