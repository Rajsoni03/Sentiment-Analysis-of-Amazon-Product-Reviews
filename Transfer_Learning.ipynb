{
  "nbformat": 4,
  "nbformat_minor": 0,
  "metadata": {
    "colab": {
      "name": "Transfer Learning",
      "provenance": [],
      "collapsed_sections": [],
      "mount_file_id": "1yiD_6mOw4sWAjdyoWp0dbMSmlagprlHo",
      "authorship_tag": "ABX9TyOLqwlFXc+Mi6fZmdMlj7rR",
      "include_colab_link": true
    },
    "kernelspec": {
      "name": "python3",
      "display_name": "Python 3"
    },
    "language_info": {
      "name": "python"
    }
  },
  "cells": [
    {
      "cell_type": "markdown",
      "metadata": {
        "id": "view-in-github",
        "colab_type": "text"
      },
      "source": [
        "<a href=\"https://colab.research.google.com/github/Rajsoni03/Sentiment-Analysis-of-Amazon-Product-Reviews/blob/main/Transfer_Learning.ipynb\" target=\"_parent\"><img src=\"https://colab.research.google.com/assets/colab-badge.svg\" alt=\"Open In Colab\"/></a>"
      ]
    },
    {
      "cell_type": "markdown",
      "metadata": {
        "id": "2Y6nDt_9EdSj"
      },
      "source": [
        "## Importing Libraries"
      ]
    },
    {
      "cell_type": "code",
      "metadata": {
        "id": "W5fDqJOcWfsy"
      },
      "source": [
        "import pandas as pd\n",
        "import numpy as np\n",
        "import matplotlib.pyplot as plt\n",
        "import tensorflow as tf\n",
        "from tensorflow import keras\n",
        "from tensorflow.keras.preprocessing.text import Tokenizer\n",
        "from tensorflow.keras.preprocessing.sequence import pad_sequences\n",
        "from imblearn.under_sampling import RandomUnderSampler\n",
        "from sklearn.model_selection import train_test_split\n",
        "\n",
        "\n",
        "import tensorflow_hub as hub\n",
        "import os\n",
        "import json\n",
        "import gzip\n",
        "from urllib.request import urlopen\n",
        "\n",
        "!pip install -q git+https://github.com/tensorflow/docs\n",
        "\n",
        "import tensorflow_docs as tfdocs\n",
        "import tensorflow_docs.modeling\n",
        "import tensorflow_docs.plots\n"
      ],
      "execution_count": 2,
      "outputs": []
    },
    {
      "cell_type": "markdown",
      "metadata": {
        "id": "y74dmB0T3fQG"
      },
      "source": [
        "## Import Data "
      ]
    },
    {
      "cell_type": "code",
      "metadata": {
        "colab": {
          "base_uri": "https://localhost:8080/"
        },
        "id": "-sT6giOTWttd",
        "outputId": "a94e9fb9-4da6-4d65-e7e3-b087ff98ca68"
      },
      "source": [
        "# !wget http://www.cs.jhu.edu/~mdredze/datasets/sentiment/unprocessed.tar.gz\n",
        "# !tar -xf /content/unprocessed.tar.gz \n",
        "\n",
        "\n",
        "# download data zip file\n",
        "# matadata\n",
        "# !wget http://deepyeti.ucsd.edu/jianmo/amazon/sample/meta_Computers.json.gz\n",
        "\n",
        "# review data\n",
        "!wget http://deepyeti.ucsd.edu/jianmo/amazon/categoryFilesSmall/Cell_Phones_and_Accessories_5.json.gz\n",
        "# !wget http://deepyeti.ucsd.edu/jianmo/amazon/sample/sample_Home_and_Kitchen_5.json"
      ],
      "execution_count": 3,
      "outputs": [
        {
          "output_type": "stream",
          "name": "stdout",
          "text": [
            "--2021-11-23 05:14:43--  http://deepyeti.ucsd.edu/jianmo/amazon/categoryFilesSmall/Cell_Phones_and_Accessories_5.json.gz\n",
            "Resolving deepyeti.ucsd.edu (deepyeti.ucsd.edu)... 169.228.63.50\n",
            "Connecting to deepyeti.ucsd.edu (deepyeti.ucsd.edu)|169.228.63.50|:80... connected.\n",
            "HTTP request sent, awaiting response... 200 OK\n",
            "Length: 169071325 (161M) [application/octet-stream]\n",
            "Saving to: ‘Cell_Phones_and_Accessories_5.json.gz’\n",
            "\n",
            "Cell_Phones_and_Acc 100%[===================>] 161.24M  43.6MB/s    in 4.1s    \n",
            "\n",
            "2021-11-23 05:14:47 (39.5 MB/s) - ‘Cell_Phones_and_Accessories_5.json.gz’ saved [169071325/169071325]\n",
            "\n"
          ]
        }
      ]
    },
    {
      "cell_type": "code",
      "metadata": {
        "colab": {
          "base_uri": "https://localhost:8080/"
        },
        "id": "avdnwQPeWveo",
        "outputId": "88387775-95b7-4471-e36d-45e010c14df1"
      },
      "source": [
        "### load the meta data\n",
        "data = []\n",
        "with gzip.open('/content/Cell_Phones_and_Accessories_5.json.gz') as f:\n",
        "    for l in f:\n",
        "        data.append(json.loads(l.strip()))\n",
        "    \n",
        "# total length of list, this number equals total number of products\n",
        "print(len(data))\n",
        "\n",
        "# first row of the list\n",
        "print(data[0])"
      ],
      "execution_count": 4,
      "outputs": [
        {
          "output_type": "stream",
          "name": "stdout",
          "text": [
            "1128437\n",
            "{'overall': 5.0, 'verified': True, 'reviewTime': '08 4, 2014', 'reviewerID': 'A24E3SXTC62LJI', 'asin': '7508492919', 'style': {'Color:': ' Bling'}, 'reviewerName': 'Claudia Valdivia', 'reviewText': 'Looks even better in person. Be careful to not drop your phone so often because the rhinestones will fall off (duh). More of a decorative case than it is protective, but I will say that it fits perfectly and securely on my phone. Overall, very pleased with this purchase.', 'summary': \"Can't stop won't stop looking at it\", 'unixReviewTime': 1407110400}\n"
          ]
        }
      ]
    },
    {
      "cell_type": "markdown",
      "metadata": {
        "id": "tjhgXNNT4CeK"
      },
      "source": [
        "## Data Analysis"
      ]
    },
    {
      "cell_type": "code",
      "metadata": {
        "colab": {
          "base_uri": "https://localhost:8080/"
        },
        "id": "kCDXmyO1y7XT",
        "outputId": "2baaf450-c0ca-482c-df54-4c6b761a9f96"
      },
      "source": [
        "# convert list into pandas dataframe\n",
        "df = pd.DataFrame.from_dict(data)\n",
        "print(len(df))"
      ],
      "execution_count": 5,
      "outputs": [
        {
          "output_type": "stream",
          "name": "stdout",
          "text": [
            "1128437\n"
          ]
        }
      ]
    },
    {
      "cell_type": "code",
      "metadata": {
        "colab": {
          "base_uri": "https://localhost:8080/",
          "height": 206
        },
        "id": "15iJ3v2uy7a2",
        "outputId": "aa7d98cb-5218-4d1a-d55f-883121e1d4fa"
      },
      "source": [
        "df.head()"
      ],
      "execution_count": 6,
      "outputs": [
        {
          "output_type": "execute_result",
          "data": {
            "text/html": [
              "<div>\n",
              "<style scoped>\n",
              "    .dataframe tbody tr th:only-of-type {\n",
              "        vertical-align: middle;\n",
              "    }\n",
              "\n",
              "    .dataframe tbody tr th {\n",
              "        vertical-align: top;\n",
              "    }\n",
              "\n",
              "    .dataframe thead th {\n",
              "        text-align: right;\n",
              "    }\n",
              "</style>\n",
              "<table border=\"1\" class=\"dataframe\">\n",
              "  <thead>\n",
              "    <tr style=\"text-align: right;\">\n",
              "      <th></th>\n",
              "      <th>overall</th>\n",
              "      <th>verified</th>\n",
              "      <th>reviewTime</th>\n",
              "      <th>reviewerID</th>\n",
              "      <th>asin</th>\n",
              "      <th>style</th>\n",
              "      <th>reviewerName</th>\n",
              "      <th>reviewText</th>\n",
              "      <th>summary</th>\n",
              "      <th>unixReviewTime</th>\n",
              "      <th>vote</th>\n",
              "      <th>image</th>\n",
              "    </tr>\n",
              "  </thead>\n",
              "  <tbody>\n",
              "    <tr>\n",
              "      <th>0</th>\n",
              "      <td>5.0</td>\n",
              "      <td>True</td>\n",
              "      <td>08 4, 2014</td>\n",
              "      <td>A24E3SXTC62LJI</td>\n",
              "      <td>7508492919</td>\n",
              "      <td>{'Color:': ' Bling'}</td>\n",
              "      <td>Claudia Valdivia</td>\n",
              "      <td>Looks even better in person. Be careful to not...</td>\n",
              "      <td>Can't stop won't stop looking at it</td>\n",
              "      <td>1407110400</td>\n",
              "      <td>NaN</td>\n",
              "      <td>NaN</td>\n",
              "    </tr>\n",
              "    <tr>\n",
              "      <th>1</th>\n",
              "      <td>5.0</td>\n",
              "      <td>True</td>\n",
              "      <td>02 12, 2014</td>\n",
              "      <td>A269FLZCB4GIPV</td>\n",
              "      <td>7508492919</td>\n",
              "      <td>NaN</td>\n",
              "      <td>sarah ponce</td>\n",
              "      <td>When you don't want to spend a whole lot of ca...</td>\n",
              "      <td>1</td>\n",
              "      <td>1392163200</td>\n",
              "      <td>NaN</td>\n",
              "      <td>NaN</td>\n",
              "    </tr>\n",
              "    <tr>\n",
              "      <th>2</th>\n",
              "      <td>3.0</td>\n",
              "      <td>True</td>\n",
              "      <td>02 8, 2014</td>\n",
              "      <td>AB6CHQWHZW4TV</td>\n",
              "      <td>7508492919</td>\n",
              "      <td>NaN</td>\n",
              "      <td>Kai</td>\n",
              "      <td>so the case came on time, i love the design. I...</td>\n",
              "      <td>Its okay</td>\n",
              "      <td>1391817600</td>\n",
              "      <td>NaN</td>\n",
              "      <td>NaN</td>\n",
              "    </tr>\n",
              "    <tr>\n",
              "      <th>3</th>\n",
              "      <td>2.0</td>\n",
              "      <td>True</td>\n",
              "      <td>02 4, 2014</td>\n",
              "      <td>A1M117A53LEI8</td>\n",
              "      <td>7508492919</td>\n",
              "      <td>NaN</td>\n",
              "      <td>Sharon Williams</td>\n",
              "      <td>DON'T CARE FOR IT.  GAVE IT AS A GIFT AND THEY...</td>\n",
              "      <td>CASE</td>\n",
              "      <td>1391472000</td>\n",
              "      <td>NaN</td>\n",
              "      <td>NaN</td>\n",
              "    </tr>\n",
              "    <tr>\n",
              "      <th>4</th>\n",
              "      <td>4.0</td>\n",
              "      <td>True</td>\n",
              "      <td>02 3, 2014</td>\n",
              "      <td>A272DUT8M88ZS8</td>\n",
              "      <td>7508492919</td>\n",
              "      <td>NaN</td>\n",
              "      <td>Bella Rodriguez</td>\n",
              "      <td>I liked it because it was cute, but the studs ...</td>\n",
              "      <td>Cute!</td>\n",
              "      <td>1391385600</td>\n",
              "      <td>NaN</td>\n",
              "      <td>NaN</td>\n",
              "    </tr>\n",
              "  </tbody>\n",
              "</table>\n",
              "</div>"
            ],
            "text/plain": [
              "   overall  verified   reviewTime  ... unixReviewTime vote image\n",
              "0      5.0      True   08 4, 2014  ...     1407110400  NaN   NaN\n",
              "1      5.0      True  02 12, 2014  ...     1392163200  NaN   NaN\n",
              "2      3.0      True   02 8, 2014  ...     1391817600  NaN   NaN\n",
              "3      2.0      True   02 4, 2014  ...     1391472000  NaN   NaN\n",
              "4      4.0      True   02 3, 2014  ...     1391385600  NaN   NaN\n",
              "\n",
              "[5 rows x 12 columns]"
            ]
          },
          "metadata": {},
          "execution_count": 6
        }
      ]
    },
    {
      "cell_type": "code",
      "metadata": {
        "colab": {
          "base_uri": "https://localhost:8080/",
          "height": 206
        },
        "id": "fMXZm3H7r02Z",
        "outputId": "54a594e7-315d-4f6e-f4e8-7ce463f10cba"
      },
      "source": [
        "df = df[['overall', 'reviewText']]\n",
        "df.head()"
      ],
      "execution_count": 7,
      "outputs": [
        {
          "output_type": "execute_result",
          "data": {
            "text/html": [
              "<div>\n",
              "<style scoped>\n",
              "    .dataframe tbody tr th:only-of-type {\n",
              "        vertical-align: middle;\n",
              "    }\n",
              "\n",
              "    .dataframe tbody tr th {\n",
              "        vertical-align: top;\n",
              "    }\n",
              "\n",
              "    .dataframe thead th {\n",
              "        text-align: right;\n",
              "    }\n",
              "</style>\n",
              "<table border=\"1\" class=\"dataframe\">\n",
              "  <thead>\n",
              "    <tr style=\"text-align: right;\">\n",
              "      <th></th>\n",
              "      <th>overall</th>\n",
              "      <th>reviewText</th>\n",
              "    </tr>\n",
              "  </thead>\n",
              "  <tbody>\n",
              "    <tr>\n",
              "      <th>0</th>\n",
              "      <td>5.0</td>\n",
              "      <td>Looks even better in person. Be careful to not...</td>\n",
              "    </tr>\n",
              "    <tr>\n",
              "      <th>1</th>\n",
              "      <td>5.0</td>\n",
              "      <td>When you don't want to spend a whole lot of ca...</td>\n",
              "    </tr>\n",
              "    <tr>\n",
              "      <th>2</th>\n",
              "      <td>3.0</td>\n",
              "      <td>so the case came on time, i love the design. I...</td>\n",
              "    </tr>\n",
              "    <tr>\n",
              "      <th>3</th>\n",
              "      <td>2.0</td>\n",
              "      <td>DON'T CARE FOR IT.  GAVE IT AS A GIFT AND THEY...</td>\n",
              "    </tr>\n",
              "    <tr>\n",
              "      <th>4</th>\n",
              "      <td>4.0</td>\n",
              "      <td>I liked it because it was cute, but the studs ...</td>\n",
              "    </tr>\n",
              "  </tbody>\n",
              "</table>\n",
              "</div>"
            ],
            "text/plain": [
              "   overall                                         reviewText\n",
              "0      5.0  Looks even better in person. Be careful to not...\n",
              "1      5.0  When you don't want to spend a whole lot of ca...\n",
              "2      3.0  so the case came on time, i love the design. I...\n",
              "3      2.0  DON'T CARE FOR IT.  GAVE IT AS A GIFT AND THEY...\n",
              "4      4.0  I liked it because it was cute, but the studs ..."
            ]
          },
          "metadata": {},
          "execution_count": 7
        }
      ]
    },
    {
      "cell_type": "code",
      "metadata": {
        "colab": {
          "base_uri": "https://localhost:8080/"
        },
        "id": "nM0_nCHID_hF",
        "outputId": "051ac380-bf4b-4320-8c5e-9c334e6104bc"
      },
      "source": [
        "df['overall'].unique()"
      ],
      "execution_count": 8,
      "outputs": [
        {
          "output_type": "execute_result",
          "data": {
            "text/plain": [
              "array([5., 3., 2., 4., 1.])"
            ]
          },
          "metadata": {},
          "execution_count": 8
        }
      ]
    },
    {
      "cell_type": "code",
      "metadata": {
        "colab": {
          "base_uri": "https://localhost:8080/"
        },
        "id": "BMctT46bEQ4M",
        "outputId": "070c4ab8-f738-40df-bb12-3923f8f5ad1f"
      },
      "source": [
        "for i,d in df.iloc[0:10].iterrows():\n",
        "  print(d[0],' - ', d[1])"
      ],
      "execution_count": 9,
      "outputs": [
        {
          "output_type": "stream",
          "name": "stdout",
          "text": [
            "5.0  -  Looks even better in person. Be careful to not drop your phone so often because the rhinestones will fall off (duh). More of a decorative case than it is protective, but I will say that it fits perfectly and securely on my phone. Overall, very pleased with this purchase.\n",
            "5.0  -  When you don't want to spend a whole lot of cash but want a great deal...this is the shop to buy from!\n",
            "3.0  -  so the case came on time, i love the design. I'm actually missing 2 studs but nothing too noticeable the studding is almost a bit sloppy around the bow, but once again not too noticeable. I haven't put in my phone yet so this is just what I've notice so far\n",
            "2.0  -  DON'T CARE FOR IT.  GAVE IT AS A GIFT AND THEY WERE OKAY WITH IT.  JUST NOT WHAT I EXPECTED.\n",
            "4.0  -  I liked it because it was cute, but the studs fall off easily and to protect a phone this would not be recommended. Buy if you just like it for looks.\n",
            "2.0  -  The product looked exactly like the picture and it was very nice. However only days later it fell apart. I'm very disappointed with the quality of the product.\n",
            "3.0  -  I FINALLY got my case today. It took forever to get here! It's cute and looks just like the pic. Like right after I wrote this review some of the rhinestones started falling off. The package does come with glue to glue them back on but in my opinion this case is only good for a couple of days (if that.) I wouldn't purchase another. Thanks you\n",
            "5.0  -  It is a very cute case. None of the jewels have fallen off and the bow is glued on very well. Came in the time frame that was given and I'm happy with this purchase. The only thing you might want to know is, I carry my phone in my jeans and it does fit very tightly because it is a big bow. You have to be careful but worth it.\n",
            "1.0  -  DO NOT BUY! this item is seriously cheap as heck. not worth buying it at all. I didn't even get to use it and it was already losing all of its gems. I wish I got my money back on this item!!\n",
            "4.0  -  I really love this case... you have to keep your phone face down all the time, but it's pretty good quality. Some stones come off from normal use, unless you keep it in your purse all day.\n"
          ]
        }
      ]
    },
    {
      "cell_type": "code",
      "metadata": {
        "colab": {
          "base_uri": "https://localhost:8080/"
        },
        "id": "CkZOLAUPrE0_",
        "outputId": "17edda8e-92a6-4c91-9094-50c6e7b5718c"
      },
      "source": [
        "df.info()"
      ],
      "execution_count": 10,
      "outputs": [
        {
          "output_type": "stream",
          "name": "stdout",
          "text": [
            "<class 'pandas.core.frame.DataFrame'>\n",
            "RangeIndex: 1128437 entries, 0 to 1128436\n",
            "Data columns (total 2 columns):\n",
            " #   Column      Non-Null Count    Dtype  \n",
            "---  ------      --------------    -----  \n",
            " 0   overall     1128437 non-null  float64\n",
            " 1   reviewText  1127672 non-null  object \n",
            "dtypes: float64(1), object(1)\n",
            "memory usage: 17.2+ MB\n"
          ]
        }
      ]
    },
    {
      "cell_type": "code",
      "metadata": {
        "colab": {
          "base_uri": "https://localhost:8080/"
        },
        "id": "EnaoqEUAsSMb",
        "outputId": "41b987fc-85d7-4e89-c6fa-7692d2d38709"
      },
      "source": [
        "df = df[df['reviewText'].notna()]\n",
        "\n",
        "# convert target type from float to int\n",
        "df = df.astype({'overall': 'int32'})\n",
        "df.info()"
      ],
      "execution_count": 11,
      "outputs": [
        {
          "output_type": "stream",
          "name": "stdout",
          "text": [
            "<class 'pandas.core.frame.DataFrame'>\n",
            "Int64Index: 1127672 entries, 0 to 1128436\n",
            "Data columns (total 2 columns):\n",
            " #   Column      Non-Null Count    Dtype \n",
            "---  ------      --------------    ----- \n",
            " 0   overall     1127672 non-null  int32 \n",
            " 1   reviewText  1127672 non-null  object\n",
            "dtypes: int32(1), object(1)\n",
            "memory usage: 21.5+ MB\n"
          ]
        }
      ]
    },
    {
      "cell_type": "code",
      "metadata": {
        "colab": {
          "base_uri": "https://localhost:8080/",
          "height": 299
        },
        "id": "Rjv7MugSDlX1",
        "outputId": "50c44882-36ab-4fd8-f02d-0321149d315b"
      },
      "source": [
        "df['overall'].plot(kind='hist', title='Rating Distribution')"
      ],
      "execution_count": 12,
      "outputs": [
        {
          "output_type": "execute_result",
          "data": {
            "text/plain": [
              "<matplotlib.axes._subplots.AxesSubplot at 0x7f3ae8620f50>"
            ]
          },
          "metadata": {},
          "execution_count": 12
        },
        {
          "output_type": "display_data",
          "data": {
            "image/png": "[encoded data removed]",
            "text/plain": [
              "<Figure size 432x288 with 1 Axes>"
            ]
          },
          "metadata": {
            "needs_background": "light"
          }
        }
      ]
    },
    {
      "cell_type": "markdown",
      "metadata": {
        "id": "jaTcjvVtzE-B"
      },
      "source": [
        "There are class imbalance problem with dataset"
      ]
    },
    {
      "cell_type": "markdown",
      "metadata": {
        "id": "ZUVAsUwVQtgE"
      },
      "source": [
        "## Data Preprocessing"
      ]
    },
    {
      "cell_type": "code",
      "metadata": {
        "colab": {
          "base_uri": "https://localhost:8080/"
        },
        "id": "E2biQ6_zy7dK",
        "outputId": "91057a4b-ec6f-409a-b330-c19865b8687c"
      },
      "source": [
        "# handle class imbalance problem\n",
        "rus  = RandomUnderSampler(random_state=42)\n",
        "df_final, _ = rus.fit_resample(df, df['overall'])\n",
        "df_final = pd.DataFrame(df_final, columns=['overall','reviewText'])\n",
        "df_final.shape"
      ],
      "execution_count": 14,
      "outputs": [
        {
          "output_type": "execute_result",
          "data": {
            "text/plain": [
              "(285830, 2)"
            ]
          },
          "metadata": {},
          "execution_count": 14
        }
      ]
    },
    {
      "cell_type": "code",
      "metadata": {
        "colab": {
          "base_uri": "https://localhost:8080/",
          "height": 206
        },
        "id": "GTWDwY3tvSVP",
        "outputId": "2ab3b599-cd43-4d18-a2d1-72a89c86b696"
      },
      "source": [
        "df_final.head()"
      ],
      "execution_count": 15,
      "outputs": [
        {
          "output_type": "execute_result",
          "data": {
            "text/html": [
              "<div>\n",
              "<style scoped>\n",
              "    .dataframe tbody tr th:only-of-type {\n",
              "        vertical-align: middle;\n",
              "    }\n",
              "\n",
              "    .dataframe tbody tr th {\n",
              "        vertical-align: top;\n",
              "    }\n",
              "\n",
              "    .dataframe thead th {\n",
              "        text-align: right;\n",
              "    }\n",
              "</style>\n",
              "<table border=\"1\" class=\"dataframe\">\n",
              "  <thead>\n",
              "    <tr style=\"text-align: right;\">\n",
              "      <th></th>\n",
              "      <th>overall</th>\n",
              "      <th>reviewText</th>\n",
              "    </tr>\n",
              "  </thead>\n",
              "  <tbody>\n",
              "    <tr>\n",
              "      <th>0</th>\n",
              "      <td>1</td>\n",
              "      <td>Finish peeled off on day one.</td>\n",
              "    </tr>\n",
              "    <tr>\n",
              "      <th>1</th>\n",
              "      <td>1</td>\n",
              "      <td>Because the case is gloss- it quickly become u...</td>\n",
              "    </tr>\n",
              "    <tr>\n",
              "      <th>2</th>\n",
              "      <td>1</td>\n",
              "      <td>no comment</td>\n",
              "    </tr>\n",
              "    <tr>\n",
              "      <th>3</th>\n",
              "      <td>1</td>\n",
              "      <td>I had ordered this product by accident, got th...</td>\n",
              "    </tr>\n",
              "    <tr>\n",
              "      <th>4</th>\n",
              "      <td>1</td>\n",
              "      <td>Good concept, worse than terrible execution.\\n...</td>\n",
              "    </tr>\n",
              "  </tbody>\n",
              "</table>\n",
              "</div>"
            ],
            "text/plain": [
              "   overall                                         reviewText\n",
              "0        1                      Finish peeled off on day one.\n",
              "1        1  Because the case is gloss- it quickly become u...\n",
              "2        1                                         no comment\n",
              "3        1  I had ordered this product by accident, got th...\n",
              "4        1  Good concept, worse than terrible execution.\\n..."
            ]
          },
          "metadata": {},
          "execution_count": 15
        }
      ]
    },
    {
      "cell_type": "code",
      "metadata": {
        "colab": {
          "base_uri": "https://localhost:8080/"
        },
        "id": "6F9OvHegtAk6",
        "outputId": "8b636351-d205-41d9-87c5-1992b2f16516"
      },
      "source": [
        "df_final.info()"
      ],
      "execution_count": 16,
      "outputs": [
        {
          "output_type": "stream",
          "name": "stdout",
          "text": [
            "<class 'pandas.core.frame.DataFrame'>\n",
            "RangeIndex: 285830 entries, 0 to 285829\n",
            "Data columns (total 2 columns):\n",
            " #   Column      Non-Null Count   Dtype \n",
            "---  ------      --------------   ----- \n",
            " 0   overall     285830 non-null  int32 \n",
            " 1   reviewText  285830 non-null  object\n",
            "dtypes: int32(1), object(1)\n",
            "memory usage: 3.3+ MB\n"
          ]
        }
      ]
    },
    {
      "cell_type": "code",
      "metadata": {
        "colab": {
          "base_uri": "https://localhost:8080/"
        },
        "id": "wuwu9-mgtMtC",
        "outputId": "b7bcfda5-383c-4458-9c49-b07ca62ccefa"
      },
      "source": [
        "# convert target type from object to int32\n",
        "df_final = df_final.astype({'overall': 'int32'})\n",
        "df_final.info()"
      ],
      "execution_count": 17,
      "outputs": [
        {
          "output_type": "stream",
          "name": "stdout",
          "text": [
            "<class 'pandas.core.frame.DataFrame'>\n",
            "RangeIndex: 285830 entries, 0 to 285829\n",
            "Data columns (total 2 columns):\n",
            " #   Column      Non-Null Count   Dtype \n",
            "---  ------      --------------   ----- \n",
            " 0   overall     285830 non-null  int32 \n",
            " 1   reviewText  285830 non-null  object\n",
            "dtypes: int32(1), object(1)\n",
            "memory usage: 3.3+ MB\n"
          ]
        }
      ]
    },
    {
      "cell_type": "code",
      "metadata": {
        "colab": {
          "base_uri": "https://localhost:8080/",
          "height": 281
        },
        "id": "6LxtA-LKJr2N",
        "outputId": "8272bbb4-ca45-42c5-bb13-6d1f07182c6e"
      },
      "source": [
        "df_final['overall'].plot(kind='hist', title='Target Distribution after undersampling');"
      ],
      "execution_count": 18,
      "outputs": [
        {
          "output_type": "display_data",
          "data": {
            "image/png": "[encoded data removed]",
            "text/plain": [
              "<Figure size 432x288 with 1 Axes>"
            ]
          },
          "metadata": {
            "needs_background": "light"
          }
        }
      ]
    },
    {
      "cell_type": "code",
      "metadata": {
        "id": "qtW4QHBbNG8y"
      },
      "source": [
        "# converting rationg to binary labels (1 = Good, 0 = Bad)\n",
        "y = df_final.iloc[:, 0].values > 2\n",
        "y = np.array([int(i) for i in y])"
      ],
      "execution_count": 19,
      "outputs": []
    },
    {
      "cell_type": "code",
      "metadata": {
        "id": "DQSRsnkczACW",
        "colab": {
          "base_uri": "https://localhost:8080/"
        },
        "outputId": "3d3e103e-2b75-4533-97fe-02b45abf41b6"
      },
      "source": [
        "# split data into training and validation set in ratio of 9:1\n",
        "X_train, X_test, Y_train, Y_test = train_test_split(df_final['reviewText'], y, random_state=42, train_size=0.9, stratify=y)\n",
        "\n",
        "print('No. of samples Training data :', X_train.shape[0])\n",
        "print('No. of samples Validation data :', X_test.shape[0]) "
      ],
      "execution_count": 20,
      "outputs": [
        {
          "output_type": "stream",
          "name": "stdout",
          "text": [
            "No. of samples Training data : 257247\n",
            "No. of samples Validation data : 28583\n"
          ]
        }
      ]
    },
    {
      "cell_type": "markdown",
      "metadata": {
        "id": "sg4mEcObSqXu"
      },
      "source": [
        "## Define Function to Train and Evaluate Models"
      ]
    },
    {
      "cell_type": "code",
      "metadata": {
        "id": "yO1NKKAMYaFF"
      },
      "source": [
        "!rm -rf /content/tensorboard_logs\n",
        "logdir = '/content/tensorboard_logs'\n",
        "os.mkdir(logdir)"
      ],
      "execution_count": 27,
      "outputs": []
    },
    {
      "cell_type": "code",
      "metadata": {
        "id": "UQrjHZtySpcu"
      },
      "source": [
        "def train_and_evaluate_model(module_url, embed_size, name, trainable=False):\n",
        "  hub_layer = hub.KerasLayer(module_url, input_shape=[], output_shape=[embed_size], dtype=tf.string, trainable=trainable)\n",
        "\n",
        "  model = tf.keras.models.Sequential([hub_layer,\n",
        "                                      tf.keras.layers.Dense(64, activation='relu'),\n",
        "                                      tf.keras.layers.Dense(1, activation='sigmoid')])\n",
        "\n",
        "  model.summary()\n",
        "\n",
        "  model.compile(optimizer = tf.keras.optimizers.Adam(learning_rate=1e-3),\n",
        "                loss = 'binary_crossentropy',\n",
        "                metrics=['accuracy'])\n",
        "  \n",
        "  history = model.fit(X_train, Y_train,\n",
        "                      validation_data = (X_test, Y_test),\n",
        "                      epochs = 10,\n",
        "                      batch_size = 32,\n",
        "                      verbose = 1,\n",
        "                      callbacks = [tf.keras.callbacks.EarlyStopping(monitor='val_loss', patience=2, mode='min'),\n",
        "                                   tf.keras.callbacks.TensorBoard(log_dir=f'{logdir}/{name}')])\n",
        "  model.save(f'/content/drive/MyDrive/Colab Notebooks/Amazon Review /Models/{name}.h5')\n",
        "\n",
        "  return history, model"
      ],
      "execution_count": 40,
      "outputs": []
    },
    {
      "cell_type": "markdown",
      "metadata": {
        "id": "yHJ6CjV_ZTf7"
      },
      "source": [
        "## Train Various Text Classification Models"
      ]
    },
    {
      "cell_type": "code",
      "metadata": {
        "id": "Ii0-cDWHy7fJ"
      },
      "source": [
        "histories = {}\n",
        "models = {}"
      ],
      "execution_count": 41,
      "outputs": []
    },
    {
      "cell_type": "markdown",
      "metadata": {
        "id": "ChQ4--SMZmGB"
      },
      "source": [
        "Model - 1 <br>\n",
        "[gnews-swivel-20dim](https://tfhub.dev/google/tf2-preview/gnews-swivel-20dim/1)"
      ]
    },
    {
      "cell_type": "code",
      "metadata": {
        "colab": {
          "base_uri": "https://localhost:8080/"
        },
        "id": "eGOxhrccOUD-",
        "outputId": "bdec91eb-8b6b-408d-a025-4dbf85e67372"
      },
      "source": [
        "histories['gnews-swivel-20dim'], models['gnews-swivel-20dim']  = train_and_evaluate_model(\"https://tfhub.dev/google/tf2-preview/gnews-swivel-20dim/1\",\n",
        "                                                                                          embed_size=20,\n",
        "                                                                                          name='gnews-swivel-20dim',\n",
        "                                                                                          trainable=True)"
      ],
      "execution_count": 42,
      "outputs": [
        {
          "output_type": "stream",
          "name": "stdout",
          "text": [
            "Model: \"sequential_7\"\n",
            "_________________________________________________________________\n",
            " Layer (type)                Output Shape              Param #   \n",
            "=================================================================\n",
            " keras_layer_7 (KerasLayer)  (None, 20)                400020    \n",
            "                                                                 \n",
            " dense_16 (Dense)            (None, 64)                1344      \n",
            "                                                                 \n",
            " dense_17 (Dense)            (None, 1)                 65        \n",
            "                                                                 \n",
            "=================================================================\n",
            "Total params: 401,429\n",
            "Trainable params: 401,429\n",
            "Non-trainable params: 0\n",
            "_________________________________________________________________\n",
            "Epoch 1/10\n",
            "8039/8039 [==============================] - 95s 12ms/step - loss: 0.3484 - accuracy: 0.8411 - val_loss: 0.3274 - val_accuracy: 0.8497\n",
            "Epoch 2/10\n",
            "8039/8039 [==============================] - 92s 11ms/step - loss: 0.3212 - accuracy: 0.8531 - val_loss: 0.3228 - val_accuracy: 0.8504\n",
            "Epoch 3/10\n",
            "8039/8039 [==============================] - 92s 11ms/step - loss: 0.3141 - accuracy: 0.8566 - val_loss: 0.3211 - val_accuracy: 0.8524\n",
            "Epoch 4/10\n",
            "8039/8039 [==============================] - 90s 11ms/step - loss: 0.3087 - accuracy: 0.8594 - val_loss: 0.3250 - val_accuracy: 0.8527\n",
            "Epoch 5/10\n",
            "8039/8039 [==============================] - 91s 11ms/step - loss: 0.3035 - accuracy: 0.8613 - val_loss: 0.3223 - val_accuracy: 0.8515\n"
          ]
        }
      ]
    },
    {
      "cell_type": "markdown",
      "metadata": {
        "id": "XQ2DqkHFuuCC"
      },
      "source": [
        "Model - 2 <br>\n",
        "[nnlm-en-dim50](\"https://tfhub.dev/google/tf2-preview/nnlm-en-dim50/1\")"
      ]
    },
    {
      "cell_type": "code",
      "metadata": {
        "colab": {
          "base_uri": "https://localhost:8080/"
        },
        "id": "wGc1BXzHueAU",
        "outputId": "5c26aafb-1caa-43bf-a2f7-c6b1d47fff81"
      },
      "source": [
        "histories['nnlm-en-dim50'] = train_and_evaluate_model(\"https://tfhub.dev/google/tf2-preview/nnlm-en-dim50/1\", \n",
        "                                                      embed_size=50, \n",
        "                                                      name='nnlm-en-dim50', \n",
        "                                                      trainable=False)"
      ],
      "execution_count": 44,
      "outputs": [
        {
          "output_type": "stream",
          "name": "stdout",
          "text": [
            "Model: \"sequential_9\"\n",
            "_________________________________________________________________\n",
            " Layer (type)                Output Shape              Param #   \n",
            "=================================================================\n",
            " keras_layer_9 (KerasLayer)  (None, 50)                48190600  \n",
            "                                                                 \n",
            " dense_20 (Dense)            (None, 64)                3264      \n",
            "                                                                 \n",
            " dense_21 (Dense)            (None, 1)                 65        \n",
            "                                                                 \n",
            "=================================================================\n",
            "Total params: 48,193,929\n",
            "Trainable params: 3,329\n",
            "Non-trainable params: 48,190,600\n",
            "_________________________________________________________________\n",
            "Epoch 1/10\n",
            "8039/8039 [==============================] - 44s 5ms/step - loss: 0.4308 - accuracy: 0.8079 - val_loss: 0.4244 - val_accuracy: 0.8126\n",
            "Epoch 2/10\n",
            "8039/8039 [==============================] - 43s 5ms/step - loss: 0.4192 - accuracy: 0.8122 - val_loss: 0.4180 - val_accuracy: 0.8139\n",
            "Epoch 3/10\n",
            "8039/8039 [==============================] - 43s 5ms/step - loss: 0.4151 - accuracy: 0.8136 - val_loss: 0.4160 - val_accuracy: 0.8142\n",
            "Epoch 4/10\n",
            "8039/8039 [==============================] - 43s 5ms/step - loss: 0.4125 - accuracy: 0.8147 - val_loss: 0.4142 - val_accuracy: 0.8146\n",
            "Epoch 5/10\n",
            "8039/8039 [==============================] - 45s 6ms/step - loss: 0.4107 - accuracy: 0.8152 - val_loss: 0.4125 - val_accuracy: 0.8161\n",
            "Epoch 6/10\n",
            "8039/8039 [==============================] - 43s 5ms/step - loss: 0.4094 - accuracy: 0.8159 - val_loss: 0.4121 - val_accuracy: 0.8162\n",
            "Epoch 7/10\n",
            "8039/8039 [==============================] - 44s 5ms/step - loss: 0.4081 - accuracy: 0.8165 - val_loss: 0.4116 - val_accuracy: 0.8164\n",
            "Epoch 8/10\n",
            "8039/8039 [==============================] - 44s 5ms/step - loss: 0.4073 - accuracy: 0.8165 - val_loss: 0.4105 - val_accuracy: 0.8159\n",
            "Epoch 9/10\n",
            "8039/8039 [==============================] - 45s 6ms/step - loss: 0.4065 - accuracy: 0.8172 - val_loss: 0.4106 - val_accuracy: 0.8164\n",
            "Epoch 10/10\n",
            "8039/8039 [==============================] - 42s 5ms/step - loss: 0.4057 - accuracy: 0.8177 - val_loss: 0.4137 - val_accuracy: 0.8140\n"
          ]
        }
      ]
    },
    {
      "cell_type": "markdown",
      "metadata": {
        "id": "dPQG7_9mwc68"
      },
      "source": [
        "Model - 3 <br>\n",
        "[nnlm-en-dim128](\"https://tfhub.dev/google/tf2-preview/nnlm-en-dim128/1\")"
      ]
    },
    {
      "cell_type": "code",
      "metadata": {
        "colab": {
          "base_uri": "https://localhost:8080/"
        },
        "id": "HlTnYAeLss5e",
        "outputId": "4297b46d-247e-4988-cbbd-20e48ccfaa86"
      },
      "source": [
        "histories['nnlm-en-dim128'] = train_and_evaluate_model(\"https://tfhub.dev/google/tf2-preview/nnlm-en-dim128/1\",\n",
        "                                                       embed_size=128,\n",
        "                                                       name='nnlm-en-dim128',\n",
        "                                                       trainable=True)"
      ],
      "execution_count": 33,
      "outputs": [
        {
          "output_type": "stream",
          "name": "stdout",
          "text": [
            "Model: \"sequential_4\"\n",
            "_________________________________________________________________\n",
            " Layer (type)                Output Shape              Param #   \n",
            "=================================================================\n",
            " keras_layer_4 (KerasLayer)  (None, 128)               124642688 \n",
            "                                                                 \n",
            " dense_10 (Dense)            (None, 64)                8256      \n",
            "                                                                 \n",
            " dense_11 (Dense)            (None, 1)                 65        \n",
            "                                                                 \n",
            "=================================================================\n",
            "Total params: 124,651,009\n",
            "Trainable params: 8,321\n",
            "Non-trainable params: 124,642,688\n",
            "_________________________________________________________________\n",
            "Epoch 1/10\n",
            "8039/8039 [==============================] - 45s 6ms/step - loss: 0.3931 - accuracy: 0.8210 - val_loss: 0.3845 - val_accuracy: 0.8262\n",
            "Epoch 2/10\n",
            "8039/8039 [==============================] - 44s 5ms/step - loss: 0.3793 - accuracy: 0.8274 - val_loss: 0.3788 - val_accuracy: 0.8285\n",
            "Epoch 3/10\n",
            "8039/8039 [==============================] - 46s 6ms/step - loss: 0.3741 - accuracy: 0.8304 - val_loss: 0.3770 - val_accuracy: 0.8285\n",
            "Epoch 4/10\n",
            "8039/8039 [==============================] - 47s 6ms/step - loss: 0.3707 - accuracy: 0.8319 - val_loss: 0.3773 - val_accuracy: 0.8282\n",
            "Epoch 5/10\n",
            "8039/8039 [==============================] - 44s 6ms/step - loss: 0.3679 - accuracy: 0.8331 - val_loss: 0.3747 - val_accuracy: 0.8306\n",
            "Epoch 6/10\n",
            "8039/8039 [==============================] - 44s 5ms/step - loss: 0.3657 - accuracy: 0.8342 - val_loss: 0.3750 - val_accuracy: 0.8298\n",
            "Epoch 7/10\n",
            "8039/8039 [==============================] - 43s 5ms/step - loss: 0.3639 - accuracy: 0.8355 - val_loss: 0.3748 - val_accuracy: 0.8298\n"
          ]
        }
      ]
    },
    {
      "cell_type": "markdown",
      "metadata": {
        "id": "57LpQkS3yBID"
      },
      "source": [
        "Model - 4 <br>\n",
        "[universal-sentence-encoder](\"https://tfhub.dev/google/universal-sentence-encoder/4\")"
      ]
    },
    {
      "cell_type": "code",
      "metadata": {
        "id": "4P4EfBBDx_JZ"
      },
      "source": [
        "histories['universal-sentence-encoder'] = train_and_evaluate_model(\"https://tfhub.dev/google/universal-sentence-encoder/4\",\n",
        "                                                                   embed_size=512,\n",
        "                                                                   name='universal-sentence-encoder',\n",
        "                                                                   trainable=False)"
      ],
      "execution_count": null,
      "outputs": []
    },
    {
      "cell_type": "markdown",
      "metadata": {
        "id": "UAHCXPDPyW0C"
      },
      "source": [
        "Model - 5 <br>\n",
        "[universal-sentence-encoder-large](\"https://tfhub.dev/google/universal-sentence-encoder-large/5\")"
      ]
    },
    {
      "cell_type": "code",
      "metadata": {
        "id": "6jxRSboYyXI6"
      },
      "source": [
        "histories['universal-sentence-encoder-large'] = train_and_evaluate_model(\"https://tfhub.dev/google/universal-sentence-encoder-large/5\",\n",
        "                                                                         embed_size=512,\n",
        "                                                                         name='universal-sentence-encoder-large',\n",
        "                                                                         trainable=True)"
      ],
      "execution_count": null,
      "outputs": []
    },
    {
      "cell_type": "markdown",
      "metadata": {
        "id": "AoAnaSIYxOAp"
      },
      "source": [
        "## Evaluate Models"
      ]
    },
    {
      "cell_type": "code",
      "metadata": {
        "id": "K9eOnzPOvrak",
        "colab": {
          "base_uri": "https://localhost:8080/",
          "height": 513
        },
        "outputId": "7c03ef12-cc72-4107-c6b5-17f377189f73"
      },
      "source": [
        "plt.rcParams['figure.figsize'] = (12, 8)\n",
        "plotter = tfdocs.plots.HistoryPlotter(metric = 'accuracy')\n",
        "plotter.plot(histories)\n",
        "plt.xlabel(\"Epochs\")\n",
        "plt.legend(bbox_to_anchor=(1.0, 1.0), loc='upper left')\n",
        "plt.title(\"Accuracy Curves for Models\")\n",
        "plt.show()"
      ],
      "execution_count": 38,
      "outputs": [
        {
          "output_type": "display_data",
          "data": {
            "image/png": "[encoded data removed]",
            "text/plain": [
              "<Figure size 864x576 with 1 Axes>"
            ]
          },
          "metadata": {
            "needs_background": "light"
          }
        }
      ]
    },
    {
      "cell_type": "code",
      "metadata": {
        "id": "nHmd-awrxfdS",
        "colab": {
          "base_uri": "https://localhost:8080/",
          "height": 513
        },
        "outputId": "6ae220a3-c549-4b23-abee-9a8ef0d44c07"
      },
      "source": [
        "plotter = tfdocs.plots.HistoryPlotter(metric = 'loss')\n",
        "plotter.plot(histories)\n",
        "plt.xlabel(\"Epochs\")\n",
        "plt.legend(bbox_to_anchor=(1.0, 1.0), loc='upper left')\n",
        "plt.title(\"Loss Curves for Models\")\n",
        "plt.show()"
      ],
      "execution_count": 39,
      "outputs": [
        {
          "output_type": "display_data",
          "data": {
            "image/png": "[encoded data removed]",
            "text/plain": [
              "<Figure size 864x576 with 1 Axes>"
            ]
          },
          "metadata": {
            "needs_background": "light"
          }
        }
      ]
    },
    {
      "cell_type": "code",
      "metadata": {
        "id": "Nkv68ni2xxAY"
      },
      "source": [
        ""
      ],
      "execution_count": null,
      "outputs": []
    }
  ]
}